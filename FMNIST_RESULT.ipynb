{
 "cells": [
  {
   "cell_type": "code",
   "execution_count": 7,
   "metadata": {},
   "outputs": [],
   "source": [
    "import matplotlib.pyplot as plt\n",
    "import numpy as np\n",
    "import torch\n",
    "import torchvision\n",
    "import torchvision.transforms as transforms\n",
    "import torch.nn as nn\n",
    "import torch.nn.functional as F\n",
    "import torch.optim as optim"
   ]
  },
  {
   "cell_type": "code",
   "execution_count": 8,
   "metadata": {},
   "outputs": [],
   "source": [
    "BATCH_SIZE = 512"
   ]
  },
  {
   "cell_type": "code",
   "execution_count": 9,
   "metadata": {},
   "outputs": [],
   "source": [
    "transform = transforms.Compose(\n",
    "    [transforms.ToTensor(),\n",
    "    transforms.Normalize((0.5,), (0.5,))])"
   ]
  },
  {
   "cell_type": "code",
   "execution_count": 10,
   "metadata": {},
   "outputs": [
    {
     "name": "stdout",
     "output_type": "stream",
     "text": [
      "Downloading http://fashion-mnist.s3-website.eu-central-1.amazonaws.com/train-images-idx3-ubyte.gz to ./data\\FashionMNIST\\raw\\train-images-idx3-ubyte.gz\n"
     ]
    },
    {
     "data": {
      "application/vnd.jupyter.widget-view+json": {
       "model_id": "c9c05a1bf1b04812b75495003f61fdff",
       "version_major": 2,
       "version_minor": 0
      },
      "text/plain": [
       "HBox(children=(HTML(value=''), FloatProgress(value=1.0, bar_style='info', layout=Layout(width='20px'), max=1.0…"
      ]
     },
     "metadata": {},
     "output_type": "display_data"
    },
    {
     "name": "stdout",
     "output_type": "stream",
     "text": [
      "Extracting ./data\\FashionMNIST\\raw\\train-images-idx3-ubyte.gz to ./data\\FashionMNIST\\raw\n",
      "Downloading http://fashion-mnist.s3-website.eu-central-1.amazonaws.com/train-labels-idx1-ubyte.gz to ./data\\FashionMNIST\\raw\\train-labels-idx1-ubyte.gz\n"
     ]
    },
    {
     "data": {
      "application/vnd.jupyter.widget-view+json": {
       "model_id": "ce1eb4cbc5984da9a6cab4894adb3681",
       "version_major": 2,
       "version_minor": 0
      },
      "text/plain": [
       "HBox(children=(HTML(value=''), FloatProgress(value=1.0, bar_style='info', layout=Layout(width='20px'), max=1.0…"
      ]
     },
     "metadata": {},
     "output_type": "display_data"
    },
    {
     "name": "stdout",
     "output_type": "stream",
     "text": [
      "Extracting ./data\\FashionMNIST\\raw\\train-labels-idx1-ubyte.gz to ./data\\FashionMNIST\\raw\n",
      "Downloading http://fashion-mnist.s3-website.eu-central-1.amazonaws.com/t10k-images-idx3-ubyte.gz to ./data\\FashionMNIST\\raw\\t10k-images-idx3-ubyte.gz\n"
     ]
    },
    {
     "data": {
      "application/vnd.jupyter.widget-view+json": {
       "model_id": "5235e93d49d64982824563e8d5027ab1",
       "version_major": 2,
       "version_minor": 0
      },
      "text/plain": [
       "HBox(children=(HTML(value=''), FloatProgress(value=1.0, bar_style='info', layout=Layout(width='20px'), max=1.0…"
      ]
     },
     "metadata": {},
     "output_type": "display_data"
    },
    {
     "name": "stdout",
     "output_type": "stream",
     "text": [
      "Extracting ./data\\FashionMNIST\\raw\\t10k-images-idx3-ubyte.gz to ./data\\FashionMNIST\\raw\n",
      "Downloading http://fashion-mnist.s3-website.eu-central-1.amazonaws.com/t10k-labels-idx1-ubyte.gz to ./data\\FashionMNIST\\raw\\t10k-labels-idx1-ubyte.gz\n",
      "\n",
      "\n"
     ]
    },
    {
     "data": {
      "application/vnd.jupyter.widget-view+json": {
       "model_id": "7f68b40f27ac4ea8a2229529ec8ff8dd",
       "version_major": 2,
       "version_minor": 0
      },
      "text/plain": [
       "HBox(children=(HTML(value=''), FloatProgress(value=1.0, bar_style='info', layout=Layout(width='20px'), max=1.0…"
      ]
     },
     "metadata": {},
     "output_type": "display_data"
    },
    {
     "name": "stdout",
     "output_type": "stream",
     "text": [
      "Extracting ./data\\FashionMNIST\\raw\\t10k-labels-idx1-ubyte.gz to ./data\\FashionMNIST\\raw\n",
      "Processing...\n"
     ]
    },
    {
     "name": "stderr",
     "output_type": "stream",
     "text": [
      "C:\\Users\\User\\anaconda3\\envs\\research\\lib\\site-packages\\torchvision\\datasets\\mnist.py:480: UserWarning: The given NumPy array is not writeable, and PyTorch does not support non-writeable tensors. This means you can write to the underlying (supposedly non-writeable) NumPy array using the tensor. You may want to copy the array to protect its data or make it writeable before converting it to a tensor. This type of warning will be suppressed for the rest of this program. (Triggered internally at  ..\\torch\\csrc\\utils\\tensor_numpy.cpp:141.)\n",
      "  return torch.from_numpy(parsed.astype(m[2], copy=False)).view(*s)\n"
     ]
    },
    {
     "name": "stdout",
     "output_type": "stream",
     "text": [
      "Done!\n",
      " Number of testing data  10000\n"
     ]
    }
   ],
   "source": [
    "test_set = torchvision.datasets.FashionMNIST('./data',\n",
    "    download=False,\n",
    "    train=False,\n",
    "    transform=transform)\n",
    "print(' Number of testing data ',len(test_set))"
   ]
  },
  {
   "cell_type": "code",
   "execution_count": 11,
   "metadata": {},
   "outputs": [],
   "source": [
    "testloader = torch.utils.data.DataLoader(test_set, batch_size=BATCH_SIZE,\n",
    "                                         shuffle=False, num_workers=2)"
   ]
  },
  {
   "cell_type": "code",
   "execution_count": 12,
   "metadata": {},
   "outputs": [
    {
     "name": "stdout",
     "output_type": "stream",
     "text": [
      "['T-shirt/top', 'Trouser', 'Pullover', 'Dress', 'Coat', 'Sandal', 'Shirt', 'Sneaker', 'Bag', 'Ankle boot']\n"
     ]
    }
   ],
   "source": [
    "CLASSES = testloader.dataset.classes\n",
    "print(CLASSES)"
   ]
  },
  {
   "cell_type": "code",
   "execution_count": 13,
   "metadata": {},
   "outputs": [
    {
     "name": "stdout",
     "output_type": "stream",
     "text": [
      "type of images <class 'torch.Tensor'> , number of images 10000 shape of images torch.Size([10000, 28, 28])\n"
     ]
    }
   ],
   "source": [
    "IMAGES = testloader.dataset.data\n",
    "print(\"type of images {} , number of images {} shape of images {}\".format(type(IMAGES), len(IMAGES), IMAGES.shape))"
   ]
  },
  {
   "cell_type": "code",
   "execution_count": 14,
   "metadata": {},
   "outputs": [
    {
     "name": "stdout",
     "output_type": "stream",
     "text": [
      "torch.Size([10000])\n"
     ]
    }
   ],
   "source": [
    "TARGET = testloader.dataset.targets\n",
    "print(TARGET.shape)"
   ]
  },
  {
   "cell_type": "code",
   "execution_count": 15,
   "metadata": {},
   "outputs": [],
   "source": [
    "MODEL_PATH = './fmnist_test.pth'"
   ]
  },
  {
   "cell_type": "code",
   "execution_count": 16,
   "metadata": {},
   "outputs": [],
   "source": [
    "cnn_layers =  nn.Sequential(\n",
    "            # Defining a 2D convolution layer\n",
    "            # torch.nn.Conv2d(in_channels, out_channels, kernel_size, stride, padding)\n",
    "            # in_channels (int) – Number of channels in the input image. For B&W it is 1.\n",
    "            # out_channels (int) – Number of channels produced by the convolution. 4 filters\n",
    "            # kernel_size (int or tuple) – Size of the convolving kernel (3x3)\n",
    "            # stride (int or tuple, optional) – Stride of the convolution\n",
    "            # padding (int or tuple, optional) – Padding of 1 added to both sides of the input\n",
    "            # example x1 = (n, c=1 , h=28 , w=28 )\n",
    "            nn.Conv2d(1, 4, kernel_size=3, stride=1, padding=1), #in_channels = 1 is a data dependent hyperparameter. It is 1 because the images are in grayscale\n",
    "            # x2 = (n, c=4 , h=28 , w=28 )\n",
    "            nn.BatchNorm2d(4), # Normalize output from the activation function. \n",
    "            nn.ReLU(inplace=True), # negative elements to zero\n",
    "            # x2 = (n, c=4 , h=28 , w=28 )\n",
    "            nn.MaxPool2d(kernel_size=2, stride=2), #Stride is the number of pixels shifts over the input matrix. When the stride is 1 then we move the filters to 1 pixel at a time. When the stride is 2 then we move the filters to 2 pixels at a time and so on\n",
    "            # x3 = (n, c=4 , h=14 , w=14 )\n",
    "            # Defining another 2D convolution layer\n",
    "            nn.Conv2d(4, 4, kernel_size=3, stride=1, padding=1),\n",
    "            # x3 = (n, c=4 , h=14 , w=14 )\n",
    "            nn.BatchNorm2d(4), # 4 features\n",
    "            nn.ReLU(inplace=True), # inplace = True will modify the input directly, without allocating any additional output.\n",
    "            # x3 = (n, c=4 , h=14 , w=14 )\n",
    "            nn.MaxPool2d(kernel_size=2, stride=2), # Downsamples the input representation by taking the maximum value\n",
    "            # x4 = (n, c=4 , h=7 , w=7 )\n",
    "        )"
   ]
  },
  {
   "cell_type": "code",
   "execution_count": 17,
   "metadata": {},
   "outputs": [],
   "source": [
    "linear_layers = nn.Sequential(\n",
    "            nn.Linear(4 * 7 * 7, 10) \n",
    "#10 outputs because MNIST Fashion has 10 different classes. It is a data dependent hyperparameter\n",
    ")"
   ]
  },
  {
   "cell_type": "code",
   "execution_count": 18,
   "metadata": {},
   "outputs": [],
   "source": [
    "class Net(nn.Module):\n",
    "    def __init__(self):\n",
    "        super(Net, self).__init__()\n",
    "        self.cnn_layer = cnn_layers\n",
    "        self.linear_layer = linear_layers\n",
    "    def forward(self, x):\n",
    "        x = self.cnn_layer(x)\n",
    "        x = x.view(x.shape[0],-1)\n",
    "        x = self.linear_layer(x)\n",
    "        return x"
   ]
  },
  {
   "cell_type": "code",
   "execution_count": 19,
   "metadata": {},
   "outputs": [],
   "source": [
    "model = Net()"
   ]
  },
  {
   "cell_type": "code",
   "execution_count": 20,
   "metadata": {},
   "outputs": [
    {
     "ename": "RuntimeError",
     "evalue": "Attempting to deserialize object on a CUDA device but torch.cuda.is_available() is False. If you are running on a CPU-only machine, please use torch.load with map_location=torch.device('cpu') to map your storages to the CPU.",
     "output_type": "error",
     "traceback": [
      "\u001b[1;31m---------------------------------------------------------------------------\u001b[0m",
      "\u001b[1;31mRuntimeError\u001b[0m                              Traceback (most recent call last)",
      "\u001b[1;32m<ipython-input-20-51116c08e373>\u001b[0m in \u001b[0;36m<module>\u001b[1;34m\u001b[0m\n\u001b[1;32m----> 1\u001b[1;33m \u001b[0mmodel\u001b[0m\u001b[1;33m.\u001b[0m\u001b[0mload_state_dict\u001b[0m\u001b[1;33m(\u001b[0m\u001b[0mtorch\u001b[0m\u001b[1;33m.\u001b[0m\u001b[0mload\u001b[0m\u001b[1;33m(\u001b[0m\u001b[0mMODEL_PATH\u001b[0m\u001b[1;33m)\u001b[0m\u001b[1;33m)\u001b[0m\u001b[1;33m\u001b[0m\u001b[1;33m\u001b[0m\u001b[0m\n\u001b[0m",
      "\u001b[1;32m~\\anaconda3\\envs\\research\\lib\\site-packages\\torch\\serialization.py\u001b[0m in \u001b[0;36mload\u001b[1;34m(f, map_location, pickle_module, **pickle_load_args)\u001b[0m\n\u001b[0;32m    592\u001b[0m                     \u001b[0mopened_file\u001b[0m\u001b[1;33m.\u001b[0m\u001b[0mseek\u001b[0m\u001b[1;33m(\u001b[0m\u001b[0morig_position\u001b[0m\u001b[1;33m)\u001b[0m\u001b[1;33m\u001b[0m\u001b[1;33m\u001b[0m\u001b[0m\n\u001b[0;32m    593\u001b[0m                     \u001b[1;32mreturn\u001b[0m \u001b[0mtorch\u001b[0m\u001b[1;33m.\u001b[0m\u001b[0mjit\u001b[0m\u001b[1;33m.\u001b[0m\u001b[0mload\u001b[0m\u001b[1;33m(\u001b[0m\u001b[0mopened_file\u001b[0m\u001b[1;33m)\u001b[0m\u001b[1;33m\u001b[0m\u001b[1;33m\u001b[0m\u001b[0m\n\u001b[1;32m--> 594\u001b[1;33m                 \u001b[1;32mreturn\u001b[0m \u001b[0m_load\u001b[0m\u001b[1;33m(\u001b[0m\u001b[0mopened_zipfile\u001b[0m\u001b[1;33m,\u001b[0m \u001b[0mmap_location\u001b[0m\u001b[1;33m,\u001b[0m \u001b[0mpickle_module\u001b[0m\u001b[1;33m,\u001b[0m \u001b[1;33m**\u001b[0m\u001b[0mpickle_load_args\u001b[0m\u001b[1;33m)\u001b[0m\u001b[1;33m\u001b[0m\u001b[1;33m\u001b[0m\u001b[0m\n\u001b[0m\u001b[0;32m    595\u001b[0m         \u001b[1;32mreturn\u001b[0m \u001b[0m_legacy_load\u001b[0m\u001b[1;33m(\u001b[0m\u001b[0mopened_file\u001b[0m\u001b[1;33m,\u001b[0m \u001b[0mmap_location\u001b[0m\u001b[1;33m,\u001b[0m \u001b[0mpickle_module\u001b[0m\u001b[1;33m,\u001b[0m \u001b[1;33m**\u001b[0m\u001b[0mpickle_load_args\u001b[0m\u001b[1;33m)\u001b[0m\u001b[1;33m\u001b[0m\u001b[1;33m\u001b[0m\u001b[0m\n\u001b[0;32m    596\u001b[0m \u001b[1;33m\u001b[0m\u001b[0m\n",
      "\u001b[1;32m~\\anaconda3\\envs\\research\\lib\\site-packages\\torch\\serialization.py\u001b[0m in \u001b[0;36m_load\u001b[1;34m(zip_file, map_location, pickle_module, pickle_file, **pickle_load_args)\u001b[0m\n\u001b[0;32m    851\u001b[0m     \u001b[0munpickler\u001b[0m \u001b[1;33m=\u001b[0m \u001b[0mpickle_module\u001b[0m\u001b[1;33m.\u001b[0m\u001b[0mUnpickler\u001b[0m\u001b[1;33m(\u001b[0m\u001b[0mdata_file\u001b[0m\u001b[1;33m,\u001b[0m \u001b[1;33m**\u001b[0m\u001b[0mpickle_load_args\u001b[0m\u001b[1;33m)\u001b[0m\u001b[1;33m\u001b[0m\u001b[1;33m\u001b[0m\u001b[0m\n\u001b[0;32m    852\u001b[0m     \u001b[0munpickler\u001b[0m\u001b[1;33m.\u001b[0m\u001b[0mpersistent_load\u001b[0m \u001b[1;33m=\u001b[0m \u001b[0mpersistent_load\u001b[0m\u001b[1;33m\u001b[0m\u001b[1;33m\u001b[0m\u001b[0m\n\u001b[1;32m--> 853\u001b[1;33m     \u001b[0mresult\u001b[0m \u001b[1;33m=\u001b[0m \u001b[0munpickler\u001b[0m\u001b[1;33m.\u001b[0m\u001b[0mload\u001b[0m\u001b[1;33m(\u001b[0m\u001b[1;33m)\u001b[0m\u001b[1;33m\u001b[0m\u001b[1;33m\u001b[0m\u001b[0m\n\u001b[0m\u001b[0;32m    854\u001b[0m \u001b[1;33m\u001b[0m\u001b[0m\n\u001b[0;32m    855\u001b[0m     \u001b[0mtorch\u001b[0m\u001b[1;33m.\u001b[0m\u001b[0m_utils\u001b[0m\u001b[1;33m.\u001b[0m\u001b[0m_validate_loaded_sparse_tensors\u001b[0m\u001b[1;33m(\u001b[0m\u001b[1;33m)\u001b[0m\u001b[1;33m\u001b[0m\u001b[1;33m\u001b[0m\u001b[0m\n",
      "\u001b[1;32m~\\anaconda3\\envs\\research\\lib\\site-packages\\torch\\serialization.py\u001b[0m in \u001b[0;36mpersistent_load\u001b[1;34m(saved_id)\u001b[0m\n\u001b[0;32m    843\u001b[0m         \u001b[0mdata_type\u001b[0m\u001b[1;33m,\u001b[0m \u001b[0mkey\u001b[0m\u001b[1;33m,\u001b[0m \u001b[0mlocation\u001b[0m\u001b[1;33m,\u001b[0m \u001b[0msize\u001b[0m \u001b[1;33m=\u001b[0m \u001b[0mdata\u001b[0m\u001b[1;33m\u001b[0m\u001b[1;33m\u001b[0m\u001b[0m\n\u001b[0;32m    844\u001b[0m         \u001b[1;32mif\u001b[0m \u001b[0mkey\u001b[0m \u001b[1;32mnot\u001b[0m \u001b[1;32min\u001b[0m \u001b[0mloaded_storages\u001b[0m\u001b[1;33m:\u001b[0m\u001b[1;33m\u001b[0m\u001b[1;33m\u001b[0m\u001b[0m\n\u001b[1;32m--> 845\u001b[1;33m             \u001b[0mload_tensor\u001b[0m\u001b[1;33m(\u001b[0m\u001b[0mdata_type\u001b[0m\u001b[1;33m,\u001b[0m \u001b[0msize\u001b[0m\u001b[1;33m,\u001b[0m \u001b[0mkey\u001b[0m\u001b[1;33m,\u001b[0m \u001b[0m_maybe_decode_ascii\u001b[0m\u001b[1;33m(\u001b[0m\u001b[0mlocation\u001b[0m\u001b[1;33m)\u001b[0m\u001b[1;33m)\u001b[0m\u001b[1;33m\u001b[0m\u001b[1;33m\u001b[0m\u001b[0m\n\u001b[0m\u001b[0;32m    846\u001b[0m         \u001b[0mstorage\u001b[0m \u001b[1;33m=\u001b[0m \u001b[0mloaded_storages\u001b[0m\u001b[1;33m[\u001b[0m\u001b[0mkey\u001b[0m\u001b[1;33m]\u001b[0m\u001b[1;33m\u001b[0m\u001b[1;33m\u001b[0m\u001b[0m\n\u001b[0;32m    847\u001b[0m         \u001b[1;32mreturn\u001b[0m \u001b[0mstorage\u001b[0m\u001b[1;33m\u001b[0m\u001b[1;33m\u001b[0m\u001b[0m\n",
      "\u001b[1;32m~\\anaconda3\\envs\\research\\lib\\site-packages\\torch\\serialization.py\u001b[0m in \u001b[0;36mload_tensor\u001b[1;34m(data_type, size, key, location)\u001b[0m\n\u001b[0;32m    832\u001b[0m \u001b[1;33m\u001b[0m\u001b[0m\n\u001b[0;32m    833\u001b[0m         \u001b[0mstorage\u001b[0m \u001b[1;33m=\u001b[0m \u001b[0mzip_file\u001b[0m\u001b[1;33m.\u001b[0m\u001b[0mget_storage_from_record\u001b[0m\u001b[1;33m(\u001b[0m\u001b[0mname\u001b[0m\u001b[1;33m,\u001b[0m \u001b[0msize\u001b[0m\u001b[1;33m,\u001b[0m \u001b[0mdtype\u001b[0m\u001b[1;33m)\u001b[0m\u001b[1;33m.\u001b[0m\u001b[0mstorage\u001b[0m\u001b[1;33m(\u001b[0m\u001b[1;33m)\u001b[0m\u001b[1;33m\u001b[0m\u001b[1;33m\u001b[0m\u001b[0m\n\u001b[1;32m--> 834\u001b[1;33m         \u001b[0mloaded_storages\u001b[0m\u001b[1;33m[\u001b[0m\u001b[0mkey\u001b[0m\u001b[1;33m]\u001b[0m \u001b[1;33m=\u001b[0m \u001b[0mrestore_location\u001b[0m\u001b[1;33m(\u001b[0m\u001b[0mstorage\u001b[0m\u001b[1;33m,\u001b[0m \u001b[0mlocation\u001b[0m\u001b[1;33m)\u001b[0m\u001b[1;33m\u001b[0m\u001b[1;33m\u001b[0m\u001b[0m\n\u001b[0m\u001b[0;32m    835\u001b[0m \u001b[1;33m\u001b[0m\u001b[0m\n\u001b[0;32m    836\u001b[0m     \u001b[1;32mdef\u001b[0m \u001b[0mpersistent_load\u001b[0m\u001b[1;33m(\u001b[0m\u001b[0msaved_id\u001b[0m\u001b[1;33m)\u001b[0m\u001b[1;33m:\u001b[0m\u001b[1;33m\u001b[0m\u001b[1;33m\u001b[0m\u001b[0m\n",
      "\u001b[1;32m~\\anaconda3\\envs\\research\\lib\\site-packages\\torch\\serialization.py\u001b[0m in \u001b[0;36mdefault_restore_location\u001b[1;34m(storage, location)\u001b[0m\n\u001b[0;32m    173\u001b[0m \u001b[1;32mdef\u001b[0m \u001b[0mdefault_restore_location\u001b[0m\u001b[1;33m(\u001b[0m\u001b[0mstorage\u001b[0m\u001b[1;33m,\u001b[0m \u001b[0mlocation\u001b[0m\u001b[1;33m)\u001b[0m\u001b[1;33m:\u001b[0m\u001b[1;33m\u001b[0m\u001b[1;33m\u001b[0m\u001b[0m\n\u001b[0;32m    174\u001b[0m     \u001b[1;32mfor\u001b[0m \u001b[0m_\u001b[0m\u001b[1;33m,\u001b[0m \u001b[0m_\u001b[0m\u001b[1;33m,\u001b[0m \u001b[0mfn\u001b[0m \u001b[1;32min\u001b[0m \u001b[0m_package_registry\u001b[0m\u001b[1;33m:\u001b[0m\u001b[1;33m\u001b[0m\u001b[1;33m\u001b[0m\u001b[0m\n\u001b[1;32m--> 175\u001b[1;33m         \u001b[0mresult\u001b[0m \u001b[1;33m=\u001b[0m \u001b[0mfn\u001b[0m\u001b[1;33m(\u001b[0m\u001b[0mstorage\u001b[0m\u001b[1;33m,\u001b[0m \u001b[0mlocation\u001b[0m\u001b[1;33m)\u001b[0m\u001b[1;33m\u001b[0m\u001b[1;33m\u001b[0m\u001b[0m\n\u001b[0m\u001b[0;32m    176\u001b[0m         \u001b[1;32mif\u001b[0m \u001b[0mresult\u001b[0m \u001b[1;32mis\u001b[0m \u001b[1;32mnot\u001b[0m \u001b[1;32mNone\u001b[0m\u001b[1;33m:\u001b[0m\u001b[1;33m\u001b[0m\u001b[1;33m\u001b[0m\u001b[0m\n\u001b[0;32m    177\u001b[0m             \u001b[1;32mreturn\u001b[0m \u001b[0mresult\u001b[0m\u001b[1;33m\u001b[0m\u001b[1;33m\u001b[0m\u001b[0m\n",
      "\u001b[1;32m~\\anaconda3\\envs\\research\\lib\\site-packages\\torch\\serialization.py\u001b[0m in \u001b[0;36m_cuda_deserialize\u001b[1;34m(obj, location)\u001b[0m\n\u001b[0;32m    149\u001b[0m \u001b[1;32mdef\u001b[0m \u001b[0m_cuda_deserialize\u001b[0m\u001b[1;33m(\u001b[0m\u001b[0mobj\u001b[0m\u001b[1;33m,\u001b[0m \u001b[0mlocation\u001b[0m\u001b[1;33m)\u001b[0m\u001b[1;33m:\u001b[0m\u001b[1;33m\u001b[0m\u001b[1;33m\u001b[0m\u001b[0m\n\u001b[0;32m    150\u001b[0m     \u001b[1;32mif\u001b[0m \u001b[0mlocation\u001b[0m\u001b[1;33m.\u001b[0m\u001b[0mstartswith\u001b[0m\u001b[1;33m(\u001b[0m\u001b[1;34m'cuda'\u001b[0m\u001b[1;33m)\u001b[0m\u001b[1;33m:\u001b[0m\u001b[1;33m\u001b[0m\u001b[1;33m\u001b[0m\u001b[0m\n\u001b[1;32m--> 151\u001b[1;33m         \u001b[0mdevice\u001b[0m \u001b[1;33m=\u001b[0m \u001b[0mvalidate_cuda_device\u001b[0m\u001b[1;33m(\u001b[0m\u001b[0mlocation\u001b[0m\u001b[1;33m)\u001b[0m\u001b[1;33m\u001b[0m\u001b[1;33m\u001b[0m\u001b[0m\n\u001b[0m\u001b[0;32m    152\u001b[0m         \u001b[1;32mif\u001b[0m \u001b[0mgetattr\u001b[0m\u001b[1;33m(\u001b[0m\u001b[0mobj\u001b[0m\u001b[1;33m,\u001b[0m \u001b[1;34m\"_torch_load_uninitialized\"\u001b[0m\u001b[1;33m,\u001b[0m \u001b[1;32mFalse\u001b[0m\u001b[1;33m)\u001b[0m\u001b[1;33m:\u001b[0m\u001b[1;33m\u001b[0m\u001b[1;33m\u001b[0m\u001b[0m\n\u001b[0;32m    153\u001b[0m             \u001b[0mstorage_type\u001b[0m \u001b[1;33m=\u001b[0m \u001b[0mgetattr\u001b[0m\u001b[1;33m(\u001b[0m\u001b[0mtorch\u001b[0m\u001b[1;33m.\u001b[0m\u001b[0mcuda\u001b[0m\u001b[1;33m,\u001b[0m \u001b[0mtype\u001b[0m\u001b[1;33m(\u001b[0m\u001b[0mobj\u001b[0m\u001b[1;33m)\u001b[0m\u001b[1;33m.\u001b[0m\u001b[0m__name__\u001b[0m\u001b[1;33m)\u001b[0m\u001b[1;33m\u001b[0m\u001b[1;33m\u001b[0m\u001b[0m\n",
      "\u001b[1;32m~\\anaconda3\\envs\\research\\lib\\site-packages\\torch\\serialization.py\u001b[0m in \u001b[0;36mvalidate_cuda_device\u001b[1;34m(location)\u001b[0m\n\u001b[0;32m    133\u001b[0m \u001b[1;33m\u001b[0m\u001b[0m\n\u001b[0;32m    134\u001b[0m     \u001b[1;32mif\u001b[0m \u001b[1;32mnot\u001b[0m \u001b[0mtorch\u001b[0m\u001b[1;33m.\u001b[0m\u001b[0mcuda\u001b[0m\u001b[1;33m.\u001b[0m\u001b[0mis_available\u001b[0m\u001b[1;33m(\u001b[0m\u001b[1;33m)\u001b[0m\u001b[1;33m:\u001b[0m\u001b[1;33m\u001b[0m\u001b[1;33m\u001b[0m\u001b[0m\n\u001b[1;32m--> 135\u001b[1;33m         raise RuntimeError('Attempting to deserialize object on a CUDA '\n\u001b[0m\u001b[0;32m    136\u001b[0m                            \u001b[1;34m'device but torch.cuda.is_available() is False. '\u001b[0m\u001b[1;33m\u001b[0m\u001b[1;33m\u001b[0m\u001b[0m\n\u001b[0;32m    137\u001b[0m                            \u001b[1;34m'If you are running on a CPU-only machine, '\u001b[0m\u001b[1;33m\u001b[0m\u001b[1;33m\u001b[0m\u001b[0m\n",
      "\u001b[1;31mRuntimeError\u001b[0m: Attempting to deserialize object on a CUDA device but torch.cuda.is_available() is False. If you are running on a CPU-only machine, please use torch.load with map_location=torch.device('cpu') to map your storages to the CPU."
     ]
    }
   ],
   "source": [
    "model.load_state_dict(torch.load(MODEL_PATH))"
   ]
  },
  {
   "cell_type": "code",
   "execution_count": 23,
   "metadata": {},
   "outputs": [
    {
     "name": "stdout",
     "output_type": "stream",
     "text": [
      "\n",
      "\n",
      "all done\n"
     ]
    }
   ],
   "source": [
    "result = []\n",
    "for i,data in enumerate(testloader, 0):\n",
    "    image, label = data\n",
    "    # evaluate model:\n",
    "    model.eval()\n",
    "    with torch.no_grad():\n",
    "        output  = model(image)\n",
    "    result.append(output)\n",
    "print(\"all done\")"
   ]
  },
  {
   "cell_type": "code",
   "execution_count": 24,
   "metadata": {},
   "outputs": [
    {
     "name": "stdout",
     "output_type": "stream",
     "text": [
      "torch.Size([272, 10])\n"
     ]
    }
   ],
   "source": [
    "print(output.shape)"
   ]
  },
  {
   "cell_type": "code",
   "execution_count": 25,
   "metadata": {},
   "outputs": [
    {
     "name": "stdout",
     "output_type": "stream",
     "text": [
      "torch.Size([10000, 10])\n"
     ]
    }
   ],
   "source": [
    "predictions = torch.cat(result, dim=0)\n",
    "print(predictions.shape)"
   ]
  },
  {
   "cell_type": "code",
   "execution_count": 26,
   "metadata": {},
   "outputs": [
    {
     "name": "stdout",
     "output_type": "stream",
     "text": [
      "Logits for first index tensor([-0.0795, -0.1085,  0.0669,  0.0420,  0.0176, -0.0370,  0.0179, -0.0106,\n",
      "        -0.1370, -0.0087])\n"
     ]
    }
   ],
   "source": [
    "print(\"Logits for first index\", predictions[0])"
   ]
  },
  {
   "cell_type": "code",
   "execution_count": 27,
   "metadata": {},
   "outputs": [
    {
     "name": "stdout",
     "output_type": "stream",
     "text": [
      "After using softmax tensor([0.0944, 0.0917, 0.1093, 0.1066, 0.1040, 0.0985, 0.1040, 0.1011, 0.0891,\n",
      "        0.1013])\n"
     ]
    }
   ],
   "source": [
    "softmax = torch.nn.Softmax(dim=1) \n",
    "prediction = softmax(predictions)\n",
    "print(\"After using softmax\", prediction[0])"
   ]
  },
  {
   "cell_type": "code",
   "execution_count": 28,
   "metadata": {},
   "outputs": [
    {
     "name": "stdout",
     "output_type": "stream",
     "text": [
      "tensor(1.0000)\n",
      "tensor(2)\n",
      "tensor(9)\n"
     ]
    },
    {
     "data": {
      "image/png": "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\n",
      "text/plain": [
       "<Figure size 432x288 with 1 Axes>"
      ]
     },
     "metadata": {
      "needs_background": "light"
     },
     "output_type": "display_data"
    },
    {
     "name": "stdout",
     "output_type": "stream",
     "text": [
      "Pullover\n"
     ]
    }
   ],
   "source": [
    "print(prediction[0].sum())\n",
    "print(prediction[0].argmax(dim=0))\n",
    "print(TARGET[0])\n",
    "plt.figure()\n",
    "counter = 0\n",
    "plt_image = IMAGES[0].numpy()\n",
    "plt.imshow(plt_image, cmap='gray')\n",
    "plt.show()\n",
    "print(CLASSES[prediction[0].argmax(dim=0)])"
   ]
  },
  {
   "cell_type": "code",
   "execution_count": 29,
   "metadata": {},
   "outputs": [
    {
     "name": "stdout",
     "output_type": "stream",
     "text": [
      "torch.Size([10000])\n"
     ]
    }
   ],
   "source": [
    "print(TARGET.shape)"
   ]
  },
  {
   "cell_type": "code",
   "execution_count": 37,
   "metadata": {},
   "outputs": [],
   "source": [
    "from sklearn.metrics import confusion_matrix, accuracy_score, f1_score, classification_report"
   ]
  },
  {
   "cell_type": "code",
   "execution_count": 38,
   "metadata": {},
   "outputs": [],
   "source": [
    "import itertools\n",
    "def custom_plot_confusion_matrix(cm, classes, normalize=False, title='Confusion matrix', cmap=plt.cm.Blues):\n",
    "    if normalize:\n",
    "        cm = cm.astype('float') / cm.sum(axis=1)[:, np.newaxis]\n",
    "        print(\"Normalized confusion matrix\")\n",
    "    else:\n",
    "        print('Confusion matrix, without normalization')\n",
    "    #print(cm)\n",
    "    plt.imshow(cm, interpolation='nearest', cmap=cmap)\n",
    "    plt.title(title)\n",
    "    plt.colorbar()\n",
    "    tick_marks = np.arange(len(classes))\n",
    "    plt.xticks(tick_marks, classes, rotation=45)\n",
    "    plt.yticks(tick_marks, classes)\n",
    "\n",
    "    fmt = '.2f' if normalize else 'd'\n",
    "    thresh = cm.max() / 2.\n",
    "    for i, j in itertools.product(range(cm.shape[0]), range(cm.shape[1])):\n",
    "        plt.text(j, i, format(cm[i, j], fmt), horizontalalignment=\"center\", color=\"white\" if cm[i, j] > thresh else \"black\")\n",
    "\n",
    "    plt.tight_layout()\n",
    "    plt.ylabel('True label')\n",
    "    plt.xlabel('Predicted label')"
   ]
  },
  {
   "cell_type": "code",
   "execution_count": ,
   "metadata": {},
   "outputs": [],
   "source": [
    "print(classification_report(y_pred=prediction.argmax(dim=1), y_true=TARGET))"
   ]
  },
  {
   "cell_type": "code",
   "execution_count": 39,
   "metadata": {},
   "outputs": [],
   "source": [
    "cm = confusion_matrix(y_pred=prediction.argmax(dim=1), y_true=TARGET)"
   ]
  },
  {
   "cell_type": "code",
   "execution_count": 40,
   "metadata": {},
   "outputs": [
    {
     "name": "stdout",
     "output_type": "stream",
     "text": [
      "plt.figure(figsize=(10,10))\n",
      "courtesy of deep lizard.com https://deeplizard.com/learn/video/0LhiS6yu2qQ\n",
      "Normalized confusion matrix\n"
     ]
    },
    {
     "data": {
      "image/png": "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\n",
      "text/plain": [
       "<Figure size 432x288 with 2 Axes>"
      ]
     },
     "metadata": {
      "needs_background": "light"
     },
     "output_type": "display_data"
    }
   ],
   "source": [
    "print(\"courtesy of deep lizard.com {}\".format(\"https://deeplizard.com/learn/video/0LhiS6yu2qQ\"))\n",
    "custom_plot_confusion_matrix(cm, classes = CLASSES, normalize=True)\n",
    "#normalize "
   ]
  },
  {
   "cell_type": "code",
   "execution_count": 41,
   "metadata": {},
   "outputs": [],
   "source": [
    "acc = accuracy_score(y_pred=prediction.argmax(dim=1), y_true=TARGET)\n",
    "f1 = f1_score(y_pred=prediction.argmax(dim=1), y_true=TARGET, average='weighted')"
   ]
  },
  {
   "cell_type": "code",
   "execution_count": 42,
   "metadata": {},
   "outputs": [
    {
     "name": "stdout",
     "output_type": "stream",
     "text": [
      "              precision    recall  f1-score   support\n",
      "\n",
      "           0       0.00      0.00      0.00      1000\n",
      "           1       0.00      0.00      0.00      1000\n",
      "           2       0.10      1.00      0.18      1000\n",
      "           3       0.00      0.00      0.00      1000\n",
      "           4       0.00      0.00      0.00      1000\n",
      "           5       0.00      0.00      0.00      1000\n",
      "           6       0.00      0.00      0.00      1000\n",
      "           7       0.00      0.00      0.00      1000\n",
      "           8       0.00      0.00      0.00      1000\n",
      "           9       0.00      0.00      0.00      1000\n",
      "\n",
      "    accuracy                           0.10     10000\n",
      "   macro avg       0.01      0.10      0.02     10000\n",
      "weighted avg       0.01      0.10      0.02     10000\n",
      "\n"
     ]
    },
    {
     "name": "stderr",
     "output_type": "stream",
     "text": [
      "C:\\Users\\User\\anaconda3\\envs\\research\\lib\\site-packages\\sklearn\\metrics\\_classification.py:1221: UndefinedMetricWarning: Precision and F-score are ill-defined and being set to 0.0 in labels with no predicted samples. Use `zero_division` parameter to control this behavior.\n",
      "  _warn_prf(average, modifier, msg_start, len(result))\n"
     ]
    }
   ],
   "source": [
    "print(classification_report(y_pred=prediction.argmax(dim=1), y_true=TARGET))"
   ]
  },
  {
   "cell_type": "code",
   "execution_count": 43,
   "metadata": {},
   "outputs": [
    {
     "name": "stdout",
     "output_type": "stream",
     "text": [
      "accuracy is 0.0998, and the weighted f1 score is 0.0184\n"
     ]
    }
   ],
   "source": [
    "print(\"accuracy is {}, and the weighted f1 score is {}\".format(acc,f1.round(4)))"
   ]
  },
  {
   "cell_type": "code",
   "execution_count": 44,
   "metadata": {},
   "outputs": [
    {
     "name": "stdout",
     "output_type": "stream",
     "text": [
      "tensor([2, 2, 2,  ..., 2, 2, 2])\n"
     ]
    }
   ],
   "source": [
    "Y_PREDS = prediction.argmax(dim=1)\n",
    "print(Y_PREDS)"
   ]
  },
  {
   "cell_type": "code",
   "execution_count": 45,
   "metadata": {},
   "outputs": [],
   "source": [
    "RESULTS = (TARGET == Y_PREDS)"
   ]
  },
  {
   "cell_type": "code",
   "execution_count": 46,
   "metadata": {},
   "outputs": [
    {
     "name": "stdout",
     "output_type": "stream",
     "text": [
      "tensor([False,  True, False,  ..., False, False, False])\n"
     ]
    }
   ],
   "source": [
    "print(RESULTS)"
   ]
  },
  {
   "cell_type": "code",
   "execution_count": 47,
   "metadata": {},
   "outputs": [],
   "source": [
    "correct = []\n",
    "incorrect = []\n",
    "for i, res in enumerate(RESULTS,0):\n",
    "    if res:\n",
    "        correct.append(i)\n",
    "    else:\n",
    "        incorrect.append(i)"
   ]
  },
  {
   "cell_type": "code",
   "execution_count": 48,
   "metadata": {},
   "outputs": [
    {
     "name": "stdout",
     "output_type": "stream",
     "text": [
      "998\n",
      "9002\n"
     ]
    }
   ],
   "source": [
    "print(len(correct))\n",
    "print(len(incorrect))"
   ]
  },
  {
   "cell_type": "code",
   "execution_count": 49,
   "metadata": {},
   "outputs": [
    {
     "name": "stdout",
     "output_type": "stream",
     "text": [
      "[6523, 1624, 1626, 5163, 6852] [5622, 2384, 1959, 1466, 3159]\n"
     ]
    }
   ],
   "source": [
    "import random\n",
    "random_correct = random.sample(correct, k=5)\n",
    "random_incorrect = random.sample(incorrect, k=5)\n",
    "print(random_correct, random_incorrect)"
   ]
  },
  {
   "cell_type": "code",
   "execution_count": 50,
   "metadata": {},
   "outputs": [],
   "source": [
    "second_pred_values, second_pred_indices = torch.topk(prediction,k=2, dim=1)"
   ]
  },
  {
   "cell_type": "code",
   "execution_count": 51,
   "metadata": {},
   "outputs": [],
   "source": [
    "def get_second_guess_index(index):\n",
    "    return second_pred_indices[:][index][1].item()"
   ]
  },
  {
   "cell_type": "code",
   "execution_count": 52,
   "metadata": {},
   "outputs": [
    {
     "data": {
      "text/plain": [
       "7"
      ]
     },
     "execution_count": 52,
     "metadata": {},
     "output_type": "execute_result"
    }
   ],
   "source": [
    "get_second_guess_index(1) #second guess"
   ]
  },
  {
   "cell_type": "code",
   "execution_count": 62,
   "metadata": {},
   "outputs": [],
   "source": [
    "def getImageTitle(index):\n",
    "    truth = TARGET[index]\n",
    "    truth_class = CLASSES[truth]\n",
    "    pred = Y_PREDS[index]\n",
    "    # show prediction probabilities \n",
    "    pred_class = CLASSES[pred]\n",
    "    if truth != pred:\n",
    "        second_pred = get_second_guess_index(index)\n",
    "        second_pred_class = CLASSES[second_pred]\n",
    "        label = \"actual {} , prediction {} , 2nd prediction {}\".format(truth_class,pred_class,second_pred_class)\n",
    "    else:\n",
    "        label = \"actual {} , prediction {}\".format(truth_class,pred_class)\n",
    "    return label"
   ]
  },
  {
   "cell_type": "code",
   "execution_count": 63,
   "metadata": {},
   "outputs": [
    {
     "name": "stdout",
     "output_type": "stream",
     "text": [
      "5\n"
     ]
    }
   ],
   "source": [
    "random_correct_images = []\n",
    "for img_index in random_correct:\n",
    "    random_correct_images.append(IMAGES[img_index])\n",
    "print(len(random_correct_images))"
   ]
  },
  {
   "cell_type": "code",
   "execution_count": 64,
   "metadata": {},
   "outputs": [
    {
     "name": "stdout",
     "output_type": "stream",
     "text": [
      "5\n"
     ]
    }
   ],
   "source": [
    "random_incorrect_images = []\n",
    "for img_index in random_incorrect:\n",
    "    random_incorrect_images.append(IMAGES[img_index])\n",
    "print(len(random_incorrect_images))"
   ]
  },
  {
   "cell_type": "code",
   "execution_count": 65,
   "metadata": {},
   "outputs": [
    {
     "data": {
      "text/plain": [
       "torch.Size([28, 28])"
      ]
     },
     "execution_count": 65,
     "metadata": {},
     "output_type": "execute_result"
    }
   ],
   "source": [
    "random_correct_images[4].shape"
   ]
  },
  {
   "cell_type": "code",
   "execution_count": 66,
   "metadata": {},
   "outputs": [
    {
     "data": {
      "text/plain": [
       "<Figure size 432x288 with 0 Axes>"
      ]
     },
     "metadata": {},
     "output_type": "display_data"
    },
    {
     "data": {
      "image/png": "iVBORw0KGgoAAAANSUhEUgAAARkAAARyCAYAAACTG4EpAAAAOXRFWHRTb2Z0d2FyZQBNYXRwbG90bGliIHZlcnNpb24zLjMuMiwgaHR0cHM6Ly9tYXRwbG90bGliLm9yZy8vihELAAAACXBIWXMAAAsTAAALEwEAmpwYAACM6ElEQVR4nO3debhcVZ3v//eXkJCJISEkBJIQUCaNEDBAa3iUQdEGlMEGRdqG22i8LTwNXu2WS19bnK7eBpx/2kZBoBsZlckGgY6goEITBJmHSIcQyAAJmUfI9/fHWmV2KnutU6dSu6rOyef1POc5p9bau2rV3vt8a+/9rbWWuTsiIlXZptMNEJH+TUFGRCqlICMilVKQEZFKKciISKUUZESkUl0VZMzs/Wb2jJnNMrPzO90eEdly1i3fkzGzAcCzwHuBucCDwGnu/mRmne5ofIsNHjy4tHy77bZLrjNkyJBk3TbbpD9Lli1b1ut1zCxZ98Ybb5SW77jjjk0938KFC5N1KevWrev1On2Bu6c3VBfbttMNKDgUmOXuzwOY2TXACUAyyPRXb37zm0vL99hjj+Q6BxxwQLIuFbQA7rrrrtLy7bffPrnOttumD5vXXnuttPy4445LrjNo0KBk3Xe+851kXSo4zZ49O7lOTur5uuWDuK/qpsul3YEXC4/nxjIR6cO66Uym7GNks48QM5sGTKu+OSLSCt0UZOYC4wuPxwEv1y/k7tOB6dB/78mI9CfddLn0ILC3me1pZoOAjwC3dLhNIrKFuuZMxt1fN7NzgDuAAcBl7v5Eh5v1Z7kMSOrG4M4775xc56/+6q+Sdakboa+//npynRdffDFZt9tuuyXr9ttvv9LyH/3oR8l1chmf8847r7R89OjRyXVeeeWVZN1RRx2VrNtll11KyxcvXpxc55prrknWrVixIlknzeuaIAPg7rcBt3W6HSLSOt10uSQi/ZCCjIhUSkFGRCqlICMileqavkvN6PbvyXzxi19M1uW++r569erS8tzX+XN9jRYsWJCse/jhh0vLJ0yYkFxn3rx5ybqBAweWln/oQx9KrpPqPwWwZMmSZF0q4zds2LDkOrkuDD/84Q+Tdd2gr/Zd0pmMiFRKQUZEKqUgIyKVUpARkUopyIhIpRRkRKRSXdV3qa9KjVi3atWqpp5vp512Ki1fu3Ztcp0BAwYk61IdCSHdcTHXuTOXSt999/JxxoYOHZpc5+WXNxvR48+GDx+erNuwYUNp+Zo1a5Lr5KReSx0nt4zOZESkUgoyIlIpBRkRqZSCjIhUSkFGRCqlICMilVIKuwVS6d7UbIqQn3At1aM6l6bOvVZudslU23OzMOZS2CNHjuz18+XGLs710E71qM71SM9tw9S2UAp7y+hMRkQqpSAjIpVSkBGRSinIiEilFGREpFIKMiJSqa5KYZvZbGA58AbwurtP6WyLGpPr5ZyS65WcSkfnUr2pwcd7kprCNpcGXrlyZbIu1cbc4OO5tHKqpzWk3/OOO+7Y1GuNGTOmtPyFF15IriM966ogEx3p7q92uhEi0hq6XBKRSnVbkHHgTjN7yMymlS1gZtPMbKaZzWxz20SkCd12uTTV3V82s9HAXWb2tLv/priAu08HpkP3T+4mIl12JuPuL8ffC4EbgUM72yIR2VJdcyZjZsOAbdx9efz7GOBLHW5WQ3Lj0KbkOi2mni83te369euTdc2MeZub6jU3he3SpUtLy3MdJHNjIeeyQalOprmpaLfbbrtkXe49S/O6JsgAY4Ab4/zG2wI/dfdfdrZJIrKluibIuPvzwIGdboeItFZX3ZMRkf5HQUZEKqUgIyKVUpARkUp1zY3fvizVQTI37m4ulZrqqJfrmJhL2+ZSxKnUd25K3Pnz5yfrUqn53PvNbadcB8ntt9++tHz8+PHJdVIpdoBdd901WSfN05mMiFRKQUZEKqUgIyKVUpARkUopyIhIpRRkRKRSSmG3QKr3bi41m+vxmxq7duLEicl1lixZkqx79dX0aKap9dzTQ/XETqylBg4cWFqem9o2NyZvbmzgVKp/n332Sa7zwAMPJOua6U0vPdOZjIhUSkFGRCqlICMilVKQEZFKKciISKWUXWqBkSNHlpYvWLAguc4OO+yQrPv4xz9eWn799dcn11m0aFGyLjfGbyoblBtbN1eXyqjlMlK5tucyPpdeemlp+de+9rXkOiNGjEjW5bKB0jydyYhIpRRkRKRSCjIiUikFGRGplIKMiFRKQUZEKtX2FLaZXQYcDyx090mxbCRwLTARmA2c6u6vtbttOblU6ooVK0rLU+lhgKeffrrXbXjppZeSdbkOiK+//nqyLjWGbu75cppZLzdl79ChQ5N1uc6TKalOlQCvvVZ+yI0ePTq5zsKFC3vdhq1NJ85kLgfeX1d2PjDD3fcGZsTHItIPtD3IuPtvgMV1xScAV8S/rwBObGebRKQ63XJPZoy7zwOIv9PnpyLSp/S5bgVmNg2Y1ul2iEhjuuVMZoGZjQWIv5N309x9urtPcfcpbWudiDStW4LMLcAZ8e8zgJs72BYRaaFOpLCvBo4ARpnZXOALwNeB68zsLGAOcEq729WT3BSmy5YtKy3PjeP71FNP9boNud7PqfRrT+s1k8LOpcRTr5UbMzg1pjHkvwaQ8t///d/JugMPPDBZ9/jjj5eWjxo1KrmOUtg9a3uQcffTElVHt7UhItIW3XK5JCL9lIKMiFRKQUZEKqUgIyKVUpARkUr1uW/8dkpqsHBIp2132WWX5DrTp0/vdRtyPZLXrVuXrBs0aFCyLtX2VatWJdfJpbe32ab8cyuVKod8+3baaadkXcq//du/JetyKezUYOe5Qd+lZzqTEZFKKciISKUUZESkUgoyIlIpBRkRqZSySw0aPHhwsi6VoUl1nARYsmRJr9uQytwArF+/PlmX69CYyhQ120Eypdm257JmqWxQbtvm2p5qY24MYumZzmREpFIKMiJSKQUZEamUgoyIVEpBRkQqpSAjIpVSCrtBuTF+U3Jp72asWbMmWZeaKhfyHRBTKeJch8ZmpqJNpZsh375ceju1T3Jp6mbaseOOOybXkZ7pTEZEKqUgIyKVUpARkUopyIhIpRRkRKRSCjIiUqlOTFN7GXA8sNDdJ8WyC4FPAK/ExS5w99va3bac3JSzqVR1synsN7/5zaXlS5cuTa6TmwY21wM65Y033kjWNdOrO5eKbiYlDrDPPvuUlj/22GPJdXLtSMmlvaVnnTiTuRx4f0n5N919cvzpqgAjIs1re5Bx998Ai9v9uiLSGd10T+YcM3vUzC4zsxGphcxsmpnNNLOZ7WyciDSnW4LMD4A3AZOBecAlqQXdfbq7T3H3KW1qm4hsga4IMu6+wN3fcPcNwI+AQzvdJhFpja7oIGlmY919Xnx4EvB4J9tTJteJr5lxcnOmTp1aWv7aa68l18m1L5cdSWWecuvkOmqmsje5jFRqjGTIj/G72267lZY/88wzyXXWrl3bVDukeZ1IYV8NHAGMMrO5wBeAI8xsMuDAbOCT7W6XiFSj7UHG3U8rKb603e0QkfboinsyItJ/KciISKUUZESkUgoyIlKprkhh93WpNHCuY2IuvX3AAQeUlufG8V21alWyLpeaHThwYGl5rn25jp+pFHYudZwbTzj3vnbZZZfS8p122im5zoQJE5J1L7/8cml5s19FkEBnMiJSKQUZEamUgoyIVEpBRkQqpSAjIpVSkBGRSik316BcOjqVIs6Nkztu3LhkXWpa1CVLliTXGTlyZLIuJ5U+zqVtm0nN59LouR7aubpU+j0n9zWAVBs1xu+W0ZmMiFRKQUZEKqUgIyKVUpARkUopyIhIpRRkRKRSSmE3aOXKlcm6IUOG9HqdXE/h1KDgzQ7GnUul5wYgb0ZqutxcujnXqzuXPk69Vi79npvON1WnAca3jM5kRKRSCjIiUikFGRGplIKMiFRKQUZEKtWJGSTHA1cCuwIbgOnu/m0zGwlcC0wkzCJ5qrun52Vts1yGppl1clmOVDYjlwnKdVrMrddMJ8PcmLy5umbk2pd6X7n3u2zZsmRdKiuVmypXetaJM5nXgc+4+/7AXwBnm9lbgPOBGe6+NzAjPhaRPq7tQcbd57n7H+Lfy4GngN2BE4Ar4mJXACe2u20i0nodvSdjZhOBg4AHgDHuPg9CIAJGd7BpItIiHfvGr5kNB34GnOfuyxodGMjMpgHTqmybiLROR85kzGwgIcBc5e4/j8ULzGxsrB8LLCxb192nu/sUd5/SntaKyJZoe5CxcMpyKfCUu3+jUHULcEb8+wzg5na3TURarxOXS1OBjwGPmdkjsewC4OvAdWZ2FjAHOKUDbUvKpTFTKefcOqlOlQCvvvpqaXkuPZxLYeeknrPZ9Hvqsje3Tk6uc2Kqbvjw4cl1UtPoQrqjZqvT8lubtgcZd78PSN2AObqdbRGR6ukbvyJSKQUZEamUgoyIVEpBRkQqpSAjIpXSGL8NSqWVIZ36zH2LeezYscm6ww47rLT83nvvTa6Tk0sfp3osN9vzOPV8uVT06tWrk3W5bbjnnnv2qg0AixcvTtaltlNubGXpmc5kRKRSCjIiUikFGRGplIKMiFRKQUZEKqXsUoNyGYtU5mmHHXZIrnPLLbck6+bMmVNaPmLEiOQ6uY5/zYwn3Orna2YmSMh31EzV3X///cl1/vZv/zZZ99JLL5WWawbJLaMzGRGplIKMiFRKQUZEKqUgIyKVUpARkUopyIhIpZTCblAznfhyHetyqdmHHnqo8YZJr+TGQm5mKmLpmc5kRKRSCjIiUikFGRGplIKMiFRKQUZEKqUgIyKVansK28zGA1cCuwIbgOnu/m0zuxD4BPBKXPQCd7+t3e1LyfXETY3xmxsXuBnbbtu+3dXstLIpuV7YOc1Ol5vyzDPPJOt22WWX0nL1wt4ynfiezOvAZ9z9D2a2PfCQmd0V677p7hd3oE0iUpFOzIU9D5gX/15uZk8Bu7e7HSLSHh29J2NmE4GDgAdi0Tlm9qiZXWZmpSM0mdk0M5tpZjPb1U4RaV7HgoyZDQd+Bpzn7suAHwBvAiYTznQuKVvP3ae7+xR3n9KutopI8zoSZMxsICHAXOXuPwdw9wXu/oa7bwB+BBzaibaJSGu1PchYSDNcCjzl7t8olBenVDwJeLzdbROR1utEdmkq8DHgMTN7JJZdAJxmZpMBB2YDn+xA25KGDh2arEsNMj5w4MCWtkHTpW65XCo9tR9HjRpVVXO2Cp3ILt0HlO3prvlOjIi0jr7xKyKVUpARkUopyIhIpRRkRKRSGuO3QatWrUrWpTrq5cYFbkazU73KRs3sk5dffrmClmw9dCYjIpVSkBGRSinIiEilFGREpFIKMiJSKQUZEamU9eXUp5m9ArwQH44CWjuobnO6oR3d0AbojnZ0Qxtgy9uxh7uXD0Lc5fp0kCkys5ndMJBVN7SjG9rQLe3ohjZ0Uzs6QZdLIlIpBRkRqVR/CjLTO92AqBva0Q1tgO5oRze0AbqnHW3Xb+7JiEh36k9nMiLShfpFkDGz95vZM2Y2y8zO71AbZpvZY2b2SDvnhIpzVC00s8cLZSPN7C4zey7+Lp3DquI2XGhmL8Xt8YiZHVtxG8ab2d1m9pSZPWFm58bydm+LVDvauj26SZ+/XDKzAcCzwHuBucCDwGnu/mSb2zEbmOLubf1Ohpm9C1gBXOnuk2LZvwCL3f3rMeiOcPfPtbkNFwIr2jXtcJztYmxx+mPgROBM2rstUu04lTZuj27SH85kDgVmufvz7r4OuAY4ocNtaht3/w2wuK74BOCK+PcVhIO83W1oK3ef5+5/iH8vB2rTH7d7W6TasdXqD0Fmd+DFwuO5dGanOnCnmT1kZtM68PpFY+Kc47W5x0d3qB09Tjtchbrpjzu2LZqZhrk/6g9Bpmy4uE5cA05194OBvwTOjpcQW7OGph1utZLpjzui2WmY+6P+EGTmAuMLj8cBbR8v0d1fjr8XAjfS2Wl2F9Rm5Iy/F7a7AZ2Ydrhs+mM6sC00DfOm+kOQeRDY28z2NLNBwEeAW9rZADMbFm/yYWbDgGPo7DS7twBnxL/PAG5udwPaPe1wavpj2rwtNA3z5vp8dgkgpgO/BQwALnP3r7b59fcinL1AGJz9p+1qg5ldDRxB6OW7APgCcBNwHTABmAOc4u6V3ZhNtOEIwqXBn6cdrt0bqagNhwP3Ao8BG2LxBYT7Ie3cFql2nEYbt0c36RdBRkS6V3+4XBKRLqYgIyKVUpARkUopyIhIpRRkRKRSbQkyZjY69kKdWOFrXGhm2c6JZnammXnhZ6GZ3WFmB/fytY6I608qlLmZndNs+yUwsxvM7J7C4x73a936g+I6k+vKJ8Z9dHzrWpttx8S6Y225mc00s1ObeK5Nji0zu8fMbmhti6vTrjOZ0YTvTkxs0+v15CjgHcAngV2Au81st842SRJ+DLyvF8sPIhxrk+vK5xH2+X2taVbDPhtf90PAc8C17Qp03WLbTjegQx509xUQRpEnTKtyOnBRR1vVQmY22N3XdOB1h7j76lY9n7vPJXQd2dLnWQvcv+Ut6rVn3P1+ADP7T+Bg4O+AX3SgLZXoaZ/3eCZjZu8ws1vM7GUzWxkH3Dm9ZLk9zOxqM3vVzFbF3qYfjZdIj8XF7q6dPsZ1apcvw+uea7aZXVx4fFwccGihmS0zs/vN7JgGt0GWu78IvEI8y6p/7Vw7e2Jm51gYLGmthQG1Pl2oOzI+51vr1hlhZuvM7KxC2eFm9uu4XReZ2Y9q3Rjq2ndoPJVeDfxDb9pa0vbZZnaxmX3ezOab2Qozu8rMdiwsU7tsfF88RlYA34t1E8zsGjNbHNt9h5ntW/ca483sNjNbHV/v4yXt2Oxyycx2NrMfmtk8M1tjYcCy82L18vj7J4VLlYlll0tmNiA+/5y4j54ws4/Wvdbl8TLnvfGYXmlm99Xvt0bEfkuPsPFYu9zqBjgra2cjzOwoM3sgbo8FZvb92vFqodvLSjP7VMl6M83s3wqPs/ut0L7TzexKM1sC3JprWyOXS3sAvwU+DnyA0PHrJ2Z2WuGFRwO/Bw4hnB5+gNB/YzzhNLUWlM4mnDq+o4HXLdqT8EY+Rjjt/B1wu5lN7eXzbCb+s44E5m/pc9U97yeA7xL6znwAuB64xDaO3Pdrwrapv0Y/Kf6+MT7PVGBGbN9fAecBxwI/KXnZqwmfkMfSmk/K04D3AJ8A/hdwHOHypd6lwB+BDwKXmtlIwmXJvsD/JLzHYcB/mtmQ+L6M0I9oEnBWfP5z6eHYiOvfQxgX5suE93oJULvcPSr+/gobj7XU1/e/BPwTYZDvDxKO86uKx3Y0gXCW+9W4TUYD18X30FsTaf2x9hbgl4TJ4z5EuFz8KHADgLuvJBwPH65bby/g7cC18XGP+63gYkJAPwX4v9kGunvDP4RhFbYFfgj8qlD+NWAlYUSwsvUmEfpsHFFXfmYsH15XPhu4OPFc28Q23EHop1QrvxB4tYf2115vx/gc4+MGfh2YnHrt+nYS+uU4MKmwjAPnFNr4EvCTuuf5PrAUGBwffxt4um6ZO4BfFB7fC9xdt8xRxdcvtO/c3uzPHrbVbMJAVMMLZacT+uPsX7cdvlm37peBRcDIQtmI+N7Pjo+PjeseVlhmj7gv7kntV8J9tA21/VXS7uHxec+sK58Yy4+Pj0fGY/YLdcvdRrjEqT2+PLZp70LZifG59stsv9rrfTAeayOBf6w7Ti4HZubaWX9sxcf3ADcUHl9DuN8zoFB2alzvHfHxScAbwG6FZf533MeDerHfau27sdFjqZHLpRFm9h0zewFYH3+mAfsUFjsK+KVX1OHLzMaZ2RVm9hJhh68n9HTeJ79m0pL4HHMIbf9bd3+kBU2tGUf4ZL2+rvxaYAfgbYXH+5rZgQBmNiq2p/bJMpTwSXydmW1b+yF82qwnfAoV/UcL3wPAXR7vXUU/J3zQHNLD674HuAtYVmjzcsJQlLVZFA8FFrh7bUAn3P2FuEzOUcDDLdhfk4ChlO+jfeLZec1sd3+u8Lg2tOu4Bl7nZsK+WkQ4u/oGYWyZVjqU8E//RqHsZ4T/lcPj49sJQ6SeUljmw3G9dfFxI/utpuFjrZHLpctjYy4i/GMfAlwGDC4sszPpU9ItYmbbEC453gn8M3BkbMPtdW3ojXcRNtpEwshpV255SzdR69a/oK689nhk/P17QqCrncZ+iHBg3BQfjyD0LP8+GwP8emAtMJBNx9Epe70ttcnYKx5u7q1g4/tLve4owntaX/dzJBvbvGv985e9ZolWHWs97aPiyHVL6pap/VM2cvx9mnC87kc4K/xMXTBohbHUvY/4GouIx5qHJMDNxGMt3mc5kHAWVNPIfqtp+FjLZpfMbDDhOvwcd//XQnl9cFrE5gdeI2rZj0F15cUd/GbCEIZ/6e6/LLSh/hqxNx6u+4Sub1N9e0aWLZhR+yeoH+pxTPy9GMDd3cyuI+zYC+Lv2z2MDQvh4HbCJcNtJa9TPzhXq7vUb9L+uM2Hs/k/ef3rLiZ8MHy55Dlr721+/fMXXjOXnVpEOCa2VHEfLSqUb7KPWmCWu6dmr2jFsQbhvdTvqwGEgFx8H9cCt5rZBMKx9grwq0J9I/utpuFjraczme0In6RrawXxRukH65abAbzPzMZQLhX5a6nJ/QvPfxjhkqKmFkyKbdgD2OKbvglzi+2J3tvEc7zMpqemEK6Tl7Ex2wbhk2SvmE14N4VPFg837O4H9nX3mSU/VY8A+F7bNKN2MuHg6mnKlxnAW4EnStr8TFzmQWBM3N9AyGwQUrw9PfdBZnZAor7Rs4zHgVWU76Nn3f2VHtZvhbnAxPhhXtPbYw3CmDknxcBSczLhJKL4vaA7gdcI7/HDhPs6xbOqRvZbr2XPZNx9qZk9CPyzmS0j3HA7n3AjqBgIvgn8DXCvmX2VMLD3/sAwd/8XwiXBauAMM1sKrI/R/b8IN0i/Y2afZ+PNseLYrE8TdsYlcZntgS/G9apwI/BdM7uA8I9wMmHDN8zdN1iYEuSHZraIcJ37bsL3Iy7wwvdX3P0hM5tFyHCsZvOs0D8CM8xsAyFbsJyQ7TgO+Cd3f7a3b9DCVwi+6O4X9rDoauA/zOwiwpnqRYRr+J6mm/kG8NfAr8zsu4R9NYawDe5z96sJZ2Z/BK43s88RPtW/RM+XS1cSspR3xm38DCH7uI+7n+/u68zsv4FTLcwDtQZ4tP5J3H2xmX0L+D9m9johcJ5MuCFdn12qyk2E9/xjM7uccMb+P5p4nq8ADwM3mdkPCPeK/h9wh7v/vraQu683sxsJmbyxQH1Ku5H91ns93RkmnJr+inAnfg7hoL+QukwOITNwLSFSriIcQB8p1J9OmB9pXXjZP5cfQvhnXhU31FTqMjxxmf8iHPTPEbIpl1O4M1/WppL3ciYl2ay6ZQbGjT0/vpdvE250N5xdKpSdA8yK7/l54NOJ1/xKXP/qRP1hhBTlsrgfnoxt3LHR91V4rqFx2U/1sNxsQmr4QsL190pCinynwjKbbYdC3W6ENPsCwlnobODfgbcWlpkQ39dqwhciP0kIpMnsUizbmTBO7kJCEHka+PtC/TGEwLImtm8i5VmbAYQPrBfjPnoSOL3utTY5zjyRASp5/z0uU9h3fyIc/78g3HvsVXYplh1NOKNZE7fL98uOB8LNXScEkG16u98afV/FH42Mt5UxsyMJn6DjPTOav4XJ6m5w98+2qWnST6kX9tbnncCPcwFGpJW21r5LWy1v8yDrIrpcEpFKddXlkpm930Jnt1mFPj4i0od1zZlMzPE/S/iewFxCxuk0z6RLYyp2qzF06NBk3YABA5J1y5fXf4+qu2y33XbJuh133DFZt2TJktLydevWlZb3de7eTIfMjuumezKHEr4d+TyAmV0DnMDGfiKV22ab9IldM8G41QH8LW95S7Ju++23T9bdfffdLW1Hq40fX/+N9Y2OO+64ZN3NN5dPBjl79uwtbdImmuts3fr931d10+XS7oTvK9TMjWUi0od105lM2cfFZh8FZjaN8OU4EekDuinIzGXTnp7j2LwDIO4+nfAV/K3unoxIX9RNl0sPAnub2Z5mNgj4CKFHqIj0YV2TXQIws2OBbxH6lFzW0xfH2nkm08zNv9y2/cxnPpOse9e73lVa/uqr6ZlBdthhh2Td0qVLk3Uvv1zekXvu3PTY3atWrUrW7bzzzqXle+21V3KdfffdN1m3YEF62JKBAweWls+fnx7d8h/+IT308RtvlA/zksvcbdiwIVnX6v8tZZdawN1vo3zcFBHpo7rpcklE+iEFGRGplIKMiFRKQUZEKtVV2aXeamd2adtt0/fIX3/99dLy97znPcl1/v7v/z5Zt3hx+RjWa9akZ53N7cdc5mnIkPLx2O+/Pz2j6yuvpIe/PeSQ+tlSglGjRiXXSb1fyL+vVNtz7zeXofvUpzabYBFI71/IZx2VXQp0JiMilVKQEZFKKciISKUUZESkUgoyIlIpBRkRqVRX9V3qZs2kIw866KBkXTPp6Nzod6mhKAFWrlyZrFu9unza6SlTpiTXGTSofvrmjVJDfb722mvJdXKdDHfaaadkXapD47Jl6dleJkyYkKw78sgjS8vvuuuu5Dq5zpO51PfWRGcyIlIpBRkRqZSCjIhUSkFGRCqlICMilVKQEZFKKYXdoFS6NGfy5MnJulxKPDXJXC7Vm+vlnEtvr1+/vrQ8l3LO9TxObafc+x0xYkSyLjfhXuq1cin2nFx6O6Uvj2LQLjqTEZFKKciISKUUZESkUgoyIlIpBRkRqZSCjIhUqqtS2GY2G1gOvAG87u7prsAVyKVLc+njVE/cXC/c3POlUrC5ddatW5esGz58eK/bkUvZ5+pSg3tvt912TT1fM18dyKXYc+3IfeUgpZn2bW26KshER7p7ekh5EelTdLkkIpXqtiDjwJ1m9pCZTStbwMymmdlMM5vZ5raJSBO67XJpqru/bGajgbvM7Gl3/01xAXefDkyH9k7uJiLN6aozGXd/Of5eCNwIHNrZFonIluqaMxkzGwZs4+7L49/HAF9qZxuazS4NGzastDw3Ju/SpUuTdc1kl3Jtz2VbUpmx3PPlxrVNTeeb60jYbF0zcp0nhw4d2tLXkqBrggwwBrgx/kNsC/zU3X/Z2SaJyJbqmiDj7s8DB3a6HSLSWl11T0ZE+h8FGRGplIKMiFRKQUZEKtU1N367QbOd3UaPHl1ankv15lKzqVR1akpZyHf8y6W+Bw4cWFrebDo/9b5yHTibtXbt2tLyVBq9p3Y0Ozaw5OlMRkQqpSAjIpVSkBGRSinIiEilFGREpFIKMiJSKaWwC5rt8fue97yn18+XSwOnUrBTpqSHPJ43b16yLpeOTk1hmxufOJcuT6WVd9hhh+Q6uZRzrid7qo25bbF8+fJkXSqFPXLkyOQ6ixcvTtY1+zWA/kZnMiJSKQUZEamUgoyIVEpBRkQqpSAjIpVSdqkF3vrWt5aW5zI0uc6YO+20U2n5z3/+8+Q6X/pSejjk22+/PVmX6iCZGxc4lw1auXJlafmuu+6aXOfiiy9O1l1//fXJultvvbW0PJfVye2T1Bi/e++9d3KdBx54IFm3NWWQcnQmIyKVUpARkUopyIhIpRRkRKRSCjIiUikFGRGpVNtT2GZ2GXA8sNDdJ8WykcC1wERgNnCqu7/W7rY1a9KkSaXlc+fOTa6TS28OHjy4tDyV2u5Jbqzh+fPnl5b/6U9/Sq4zbty4ZN3s2bNLy3Mp7AMOOCBZd8899yTrxo8fX1r+yCOPJNfJjeObSs2/5S1vSa6TS2FL0IkzmcuB99eVnQ/McPe9gRnxsYj0A20PMu7+G6C+f/wJwBXx7yuAE9vZJhGpTrfckxnj7vMA4u/yOUZEpM/pc90KzGwaMK3T7RCRxnTLmcwCMxsLEH8vTC3o7tPdfYq7p4eJE5Gu0S1B5hbgjPj3GcDNHWyLiLRQJ1LYVwNHAKPMbC7wBeDrwHVmdhYwBzil3e3qyYgRI5J1K1asKC1PjXfbk1QP7QkTJiTXOf7445N1Tz75ZLIuNYZuqjc1wDHHHJOsu+iii0rLX3311eQ6ubrJkycn61Lp91wP8pxUD+0DDzywqeeToO1Bxt1PS1Qd3daGiEhbdMvlkoj0UwoyIlIpBRkRqZSCjIhUSkFGRCrV577x2ymHH354si43bWszFi1aVFqeGvQbYPjw4cm6733ve8m6UaNGlZb//d//fXKd1IDbAO973/tKy6+88srkOi+88EKyLpeaT22PNWvWJNfJ9WRP9Yzfb7/9kutIz3QmIyKVUpARkUopyIhIpRRkRKRSCjIiUilllxo0ceLEZF2qQ16uo96QIUOSdalxaHPjyZ577rnJumeeeSZZ9/zzz5eWP/zww8l1Tjst1f0MLrjggtLyd7/73cl19txzz2Rdbmzg1DS1uQ6N7p6sS+2vXGfRnXfeOVmXyhJubXQmIyKVUpARkUopyIhIpRRkRKRSCjIiUikFGRGplFLYDdpnn32SdevWrSstT017CrDNNun4nhozOJd+zU3Nun79+mTdY489Vlo+ZsyY5Dpf+9rXknWpqWPvu+++5DrDhg1L1s2bNy9Zl5LafgAjR45M1qU6SOamtt1///2Tdbn3vDXRmYyIVEpBRkQqpSAjIpVSkBGRSinIiEilFGREpFKdmKb2MuB4YKG7T4plFwKfAF6Ji13g7re1u205qdQspKeVTaVEIT+FbWpK3Fxv5dw4w6neypBO6e61117JdXJtT/WaXrJkSXKd3/3ud8m6v/iLv0jWHXzwwaXluTF+U1PRQj5VnaIUds86cSZzOfD+kvJvuvvk+NNVAUZEmtf2IOPuvwEWt/t1RaQzuumezDlm9qiZXWZm5dcLgJlNM7OZZjaznY0TkeZ0S5D5AfAmYDIwD7gktaC7T3f3Ke4+pU1tE5Et0BVBxt0XuPsb7r4B+BFwaKfbJCKt0RUdJM1srLvXesKdBDzeyfaU2WGHHZJ1y5YtKy3PdWjMzQa5atWq0vI3v/nNyXUuuuiiZN1zzz2XrEuNh5vLVh1wwAHJutSYwalOpJDPwqQ6cEK6o2Yuu5Qbrzc17nIuSzhhwoRknQSdSGFfDRwBjDKzucAXgCPMbDLgwGzgk+1ul4hUo+1Bxt3Lhrq/tN3tEJH26Ip7MiLSfynIiEilFGREpFIKMiJSqa5IYXeLVMdEgMGDByfrXnvttdLyXOozlyJOdeJLdcSEfFp5++23T9alnjPXQTLX9lQnznvvvTe5zmGHHZas23fffZN1qbbnpgfOjXec6iC5fPny5Dq5jrMS6ExGRCqlICMilVKQEZFKKciISKUUZESkUgoyIlIppbALcj2tc+O/plLVuZ7HuTRwSq4H8VFHHZWsW7p0abIuNUXs6tWrk+u88MILybrhw4eXlp92WlmXtZ5fK7dPXn311dLyXKo/Nz3wgAEDev18SmH3TGcyIlIpBRkRqZSCjIhUSkFGRCqlICMilVKQEZFKKYVdkOuFneu9m+r120yaOvd8Oa+88kqybujQocm6VJo9ly5PpXohnY7Ovadcinj+/PnJutTXCnLty01TmxrcPZf2zm1bCXQmIyKVUpARkUopyIhIpRRkRKRSCjIiUqlOzCA5HrgS2BXYAEx392+b2UjgWmAiYRbJU929fPDciuy4447JulyGIZU5yWUytt02velTz5cbMzg37e3atWuTdblOnM1IZXZybchl7nLbPVWXWyeXyRo1alRpeS7Dlcua5TJPqamI+6NOnMm8DnzG3fcH/gI428zeApwPzHD3vYEZ8bGI9HFtDzLuPs/d/xD/Xg48BewOnABcERe7Ajix3W0Tkdbr6D0ZM5sIHAQ8AIxx93kQAhEwuoNNE5EW6dg3fs1sOPAz4Dx3X9bot1zNbBowrcq2iUjrdORMxswGEgLMVe7+81i8wMzGxvqxwMKydd19urtPcfcp7WmtiGyJtgcZC6cslwJPufs3ClW3AGfEv88Abm5320Sk9TpxuTQV+BjwmJk9EssuAL4OXGdmZwFzgFPa3bDU+LQ9SaVF3T25Tq6umbFmc8+XS+k2s04u7Z1ar9nOornUd+q1cl8PyKXLm+ncmfvqQGrKXoAnnngiWdfftD3IuPt9QGqvHd3OtohI9fSNXxGplIKMiFRKQUZEKqUgIyKVUpARkUppjN+C3NiwzaSPc72mc2nRVGq22V7dufR2Sq7tOan31cz0sJBPOafWy23bFStWJOtS4xrntm0unb/TTjsl67YmOpMRkUopyIhIpRRkRKRSCjIiUikFGRGplLJLBYMHD07W5bJLqcxJaobDnqQyILkxY3MZkFzbc9mbZqReK/c6zWbNUh0ac+vksmbNZAlzbW+2w21/ozMZEamUgoyIVEpBRkQqpSAjIpVSkBGRSinIiEillMIuyKV6X3stPWNuKo2Ze77cmLc777xzr9fJ1S1fvrzX6zXboTG1Xm4s3JxmpvMdNmxYcp0lS5Yk61LbqdnpgZt9z/2NzmREpFIKMiJSKQUZEamUgoyIVEpBRkQqpSAjIpVqewrbzMYDVwK7AhuA6e7+bTO7EPgE8Epc9AJ3v62dbWs2bZtKYadS0ZAfd/dPf/pTaXlufNoHHnggWffkk08m61Jj1OZS4rkxdFPvK9dbOde7/JhjjknWHX10+YSjS5cuTa4zZsyYZF0q9f3KK6+UlkP+fTU7NW9/04nvybwOfMbd/2Bm2wMPmdldse6b7n5xB9okIhXpxFzY84B58e/lZvYUsHu72yEi7dHRezJmNhE4CKid659jZo+a2WVmNiKxzjQzm2lmM9vVThFpXseCjJkNB34GnOfuy4AfAG8CJhPOdC4pW8/dp7v7FHef0q62ikjzOhJkzGwgIcBc5e4/B3D3Be7+hrtvAH4EHNqJtolIa7U9yFhITVwKPOXu3yiUjy0sdhLweLvbJiKt14ns0lTgY8BjZvZILLsAOM3MJgMOzAY+2e6GrV27NlnXzIDbud7AX/3qV5N19913X69fq7/6wQ9+0FRdyt/8zd8k684999zS8tyA8FOnTk3W3XrrrY03rB/rRHbpPqDsixZt/U6MiLSHvvErIpVSkBGRSinIiEilFGREpFKW66jX7cysbY3PZYqaGcs1N9ZsSq5jYk5uH+c6frZSbpzcnFYfn7l99dnPfra0/Nlnn02us//++yfrfvrTnybrnn/++WRdirs3dwB0mM5kRKRSCjIiUikFGRGplIKMiFRKQUZEKqUgIyKV6usp7FeAF+LDUcCrHWxOTTe0oxvaAN3Rjm5oA2x5O/Zw911a1Zh26tNBpsjMZnbDQFbd0I5uaEO3tKMb2tBN7egEXS6JSKUUZESkUv0pyEzvdAOibmhHN7QBuqMd3dAG6J52tF2/uScjIt2pP53JiEgX6hdBxszeb2bPmNksMzu/Q22YbWaPmdkj7ZwTKs5RtdDMHi+UjTSzu8zsufi7dA6rittwoZm9FLfHI2Z2bMVtGG9md5vZU2b2hJmdG8vbvS1S7Wjr9ugmff5yycwGAM8C7wXmAg8Cp7l7egLoatoxG5ji7m39ToaZvQtYAVzp7pNi2b8Ai9396zHojnD3z7W5DRcCK9o17XCc7WJscfpj4ETgTNq7LVLtOJU2bo9u0h/OZA4FZrn78+6+DrgGOKHDbWobd/8NsLiu+ATgivj3FYSDvN1taCt3n+fuf4h/Lwdq0x+3e1uk2rHV6g9BZnfgxcLjuXRmpzpwp5k9ZGbTOvD6RWPinOO1ucdHd6gdPU47XIW66Y87ti2amYa5P+oPQaZstLBOXANOdfeDgb8Ezo6XEFuzhqYdbrWS6Y87otlpmPuj/hBk5gLjC4/HAS+3uxHu/nL8vRC4kc5Os7ugNiNn/L2w3Q3oxLTDZdMf04FtoWmYN9UfgsyDwN5mtqeZDQI+AtzSzgaY2bB4kw8zGwYcQ2en2b0FOCP+fQZwc7sb0O5ph1PTH9PmbaFpmDfX57NLADEd+C1gAHCZu6fngK3m9fcinL1AmJXzp+1qg5ldDRxB6OW7APgCcBNwHTABmAOc4u6V3ZhNtOEIwqXBn6cdrt0bqagNhwP3Ao8BtVHLLyDcD2nntki14zTauD26Sb8IMiLSvfrD5ZKIdDEFGRGplIKMiFRKQUZEKqUgIyKVakuQMbPRsRfqxApf40Izy3ZONLMzzcwLPwvN7A4zO7iXr3VEXH9SoczN7Jxm2y+Bmd1gZvcUHve4X+vWHxTXmVxXPjHuo+Nb19psOybWHWvLzWymmZ3axHNtcmyZ2T1mdkNrW1yddp3JjCZ8d2Jim16vJ0cB7wA+CewC3G1mu3W2SZLwY+B9vVh+EOFYm1xXPo+wz+9rTbMa9tn4uh8CngOubVeg6xbbdroBHfKgu6+AMIo8YVqV04GLOtqqFjKzwe6+pgOvO8TdV7fq+dx9LqHryJY+z1rg/i1vUa894+73A5jZfwIHA38H/KIDbalET/u8xzMZM3uHmd1iZi+b2co44M7pJcvtYWZXm9mrZrYq9jb9aLxEeiwudnft9DGuU7t8GV73XLPN7OLC4+PigEMLzWyZmd1vZsc0uA2y3P1F4BXiWVb9a+fa2RMzO8fCYElrLQyo9elC3ZHxOd9at84IM1tnZmcVyg43s1/H7brIzH5U68ZQ175D46n0auAfetPWkrbPNrOLzezzZjbfzFaY2VVmtmNhmdpl4/viMbIC+F6sm2Bm15jZ4tjuO8xs37rXGG9mt5nZ6vh6Hy9px2aXS2a2s5n90MzmmdkaCwOWnRerl8ffPylcqkwsu1wyswHx+efEffSEmX207rUuj5c5743H9Eozu69+vzUi9lt6hI3H2uVWN8BZWTsbYWZHmdkDcXssMLPv145XC91eVprZp0rWm2lm/1Z4nN1vhfadbmZXmtkS4NZc2xq5XNoD+C3wceADhI5fPzGz0wovPBr4PXAI4fTwA4T+G+MJp6m1oHQ24dTxHQ28btGehDfyMcJp5++A281sai+fZzPxn3UkMH9Ln6vueT8BfJfQd+YDwPXAJbZx5L5fE7ZN/TX6SfH3jfF5pgIzYvv+CjgPOBb4ScnLXk34hDyW1nxSnga8B/gE8L+A4wiXL/UuBf4IfBC41MxGEi5L9gX+J+E9DgP+08yGxPdlhH5Ek4Cz4vOfSw/HRlz/HsK4MF8mvNdLgNrl7lHx91fYeKylvr7/JeCfCIN8f5BwnF9VPLajCYSz3K/GbTIauC6+h96aSOuPtbcAvyRMHvchwuXiR4EbANx9JeF4+HDdensBbweujY973G8FFxMC+inA/8020N0b/iEMq7At8EPgV4XyrwErCSOCla03idBn44i68jNj+fC68tnAxYnn2ia24Q5CP6Va+YXAqz20v/Z6O8bnGB838OvA5NRr17eT0C/HgUmFZRw4p9DGl4Cf1D3P94GlwOD4+NvA03XL3AH8ovD4XuDuumWOKr5+oX3n9mZ/9rCtZhMGohpeKDud0B9n/7rt8M26db8MLAJGFspGxPd+dnx8bFz3sMIye8R9cU9qvxLuo22o7a+Sdg+Pz3tmXfnEWH58fDwyHrNfqFvuNsIlTu3x5bFNexfKTozPtV9m+9Ve74PxWBsJ/GPdcXI5MDPXzvpjKz6+B7ih8Pgawv2eAYWyU+N674iPTwLeAHYrLPO/4z4e1Iv9VmvfjY0eS41cLo0ws++Y2QvA+vgzDdinsNhRwC+9og5fZjbOzK4ws5cIO3w9oafzPvk1k5bE55hDaPvfuvsjLWhqzTjCJ+v1deXXAjsAbys83tfMDgQws1GxPbVPlqGET+LrzGzb2g/h02Y94VOo6D9a+B4A7vJ47yr6OeGD5pAeXvc9wF3AskKblxOGoqzNongosMDdawM64e4vxGVyjgIebsH+mgQMpXwf7RPPzmtmu/tzhce1oV3HNfA6NxP21SLC2dU3CGPLtNKhhH/6NwplPyP8rxweH99OGCL1lMIyH47rrYuPG9lvNQ0fa41cLl0eG3MR4R/7EOAyYHBhmZ1Jn5JuETPbhnDJ8U7gn4EjYxtur2tDb7yLsNEmEkZOu3LLW7qJWrf+BXXltccj4+/fEwJd7TT2Q4QD46b4eAShZ/n32Rjg1wNrgYFsOo5O2ettqU3GXvFwc28FG99f6nVHEd7T+rqfI9nY5l3rn7/sNUu06ljraR8VR65bUrdM7Z+ykePv04TjdT/CWeFn6oJBK4yl7n3E11hEPNY8JAFuJh5r8T7LgYSzoJpG9ltNw8daNrtkZoMJ1+HnuPu/Fsrrg9MiNj/wGlHLfgyqKy/u4DcThjD8S3f/ZaEN9deIvfFw3Sd0fZvq2zOybMGM2j9B/VCPY+LvxQDu7mZ2HWHHXhB/3+5hbFgIB7cTLhluK3md+sG5Wt2lfpP2x20+nM3/yetfdzHhg+HLJc9Ze2/z65+/8Jq57NQiwjGxpYr7aFGhfJN91AKz3D01e0UrjjUI76V+Xw0gBOTi+7gWuNXMJhCOtVeAXxXqG9lvNQ0faz2dyWxH+CRdWyuIN0o/WLfcDOB9ZjaGcqnIX0tN7l94/sMIlxQ1tWBSbMMewBbf9E2YW2xP9N4mnuNlNj01hXCdvIyN2TYInyR7xWzCuyl8sni4YXc/sK+7zyz5qXoEwPfaphm1kwkHV09TvswA3go8UdLmZ+IyDwJj4v4GQmaDkOLt6bkPMrMDEvWNnmU8DqyifB896+6v9LB+K8wFJsYP85reHmsQxsw5KQaWmpMJJxHF7wXdCbxGeI8fJtzXKZ5VNbLfei17JuPuS83sQeCfzWwZ4Ybb+YQbQcVA8E3gb4B7zeyrhIG99weGufu/EC4JVgNnmNlSYH2M7v9FuEH6HTP7PBtvjhXHZn2asDMuictsD3wxrleFG4HvmtkFhH+EkwkbvmHuvsHClCA/NLNFhOvcdxO+H3GBF76/4u4PmdksQoZjNZtnhf4RmGFmGwjZguWEbMdxwD+5+7O9fYMWvkLwRXe/sIdFVwP/YWYXEc5ULyJcw/c03cw3gL8GfmVm3yXsqzGEbXCfu19NODP7I3C9mX2O8Kn+JXq+XLqSkKW8M27jZwjZx33c/Xx3X2dm/w2camEeqDXAo/VP4u6LzexbwP8xs9cJgfNkwg3p+uxSVW4ivOcfm9nlhDP2/9HE83wFeBi4ycx+QLhX9P+AO9z997WF3H29md1IyOSNBepT2o3st97r6c4w4dT0V4Q78XMIB/2F1GVyCJmBawmRchXhAPpIof50wvxI68LL/rn8EMI/86q4oaZSl+GJy/wX4aB/jpBNuZzCnfmyNpW8lzMpyWbVLTMwbuz58b18m3Cju+HsUqHsHGBWfM/PA59OvOZX4vpXJ+oPI6Qol8X98GRs446Nvq/Ccw2Ny36qh+VmE1LDFxKuv1cSUuQ7FZbZbDsU6nYjpNkXEM5CZwP/Dry1sMyE+L5WE74Q+UlCIE1ml2LZzoRxchcSgsjTwN8X6o8hBJY1sX0TKc/aDCB8YL0Y99GTwOl1r7XJceaJDFDJ++9xmcK++xPh+P8F4d5jr7JLsexowhnNmrhdvl92PBBu7johgGzT2/3W6Psq/mhkvK2MmR1J+AQd75nR/C1MVneDu3+2TU2Tfkq9sLc+7wR+nAswIq20tfZd2mp5mwdZF9HlkohUqqvOZMzs/YQbrQMIp/Rf72F5RcgGjB6dnpl18eLyr4O8/vrrVTVnM4MHN/edyjVr2t7JvKPcvZm+Uh3XNUEm5vj/P8L3BOYCD5rZLd5zurRr5frPtfMM8qMf/Wiy7qqrriotf+WVdnxNJJg4cWJT6z399NMtbUdqf+lsf8t0043fQwnfjnzeQ1+Ka4ATOtwmEdlC3RRkdid8X6FmbiwTkT6say6XCL176212nmpm0whfjhORPqCbgsxcNu3pOY7NOwDi7tMJX8HXjV+RPqCbLpceBPY2sz3NbBDwEUKPUBHpw7rqezJmdizwLUIK+7KevjjWLWcyrc5K7LLLLqXlBxyQ6ngMxx57bLJuv/326/VrrVq1KrnO8OHpoY632ab8c2vZsvQXjPfYY49kXS6D9MMf/rC0/NZb00POvvFG74dy6ZYsoVLYLeDut1E+boqI9FHddLkkIv2QgoyIVEpBRkQqpSAjIpXqquxSb7Uzu9TqDMOJJ56YrDvhhPLeFOPH1w8Yv9FTTz2VrMt1QDzooINKy7fbbrvkOgMGDEjWpTpW7rzzzsl15syZk6z79a9/nazbbbfy6ctHjBhRWg75zNP06dOTdSntzDz11eySzmREpFIKMiJSKQUZEamUgoyIVEpBRkQqpSAjIpVSCrtCRx99dLLuE5/4RLJu1KhRpeW5ToY77LBDsi6XIk6tl0th5+y0006l5bvvnh5/7Prrr0/WbdiwIVmXes7tt98+uc7ChekJKu+7777S8n/7t39LrtNOSmGLiJRQkBGRSinIiEilFGREpFIKMiJSKQUZEalUVw2/2d8cf/zxybpcSjdl1113TdbtuOOOybp58+Yl61avXl1aPmzYsKZeK/W+Hn300eQ6uelm/+7v/i5Zl+p5vn79+uQ6ubrJkyeXlv/85z9PrrNy5cpknQQ6kxGRSinIiEilFGREpFIKMiJSKQUZEamUgoyIVKqrUthmNhtYDrwBvO7uUzrbosakpmYdOXJkcp1Zs2Yl6/bcc8/S8tTA2ZBPpc6fPz9Zl0rpvvrqq8l13va2tyXrrr322tLytWvXJtfJ9Zp+8cUXk3WjR48uLU+l5XuqSw24vv/++yfXmTlzZrJOgq4KMtGR7p4+wkWkT9HlkohUqtuCjAN3mtlDZjatbAEzm2ZmM81M56kifUC3XS5NdfeXzWw0cJeZPe3uvyku4O7TgenQ/SPjiUiXncm4+8vx90LgRuDQzrZIRLZU15zJmNkwYBt3Xx7/Pgb4Uoeb1ZDUOLmp8W4BXnnllWTdzTffXFqemx7205/+dLLuwAMPTNb97ne/Ky0fMmRIcp25c+cm61IZmtT0tQB77bVXsi7Xjptuuqm0fMyYMcl1clm4bbct/3fITQ+s7FLPuibIAGOAG+PcwtsCP3X3X3a2SSKypbomyLj780D6I1dE+qSuuicjIv2PgoyIVEpBRkQqpSAjIpXqmhu/fdmb3/zm0vJUOhfy08qmxtf90Ic+lFwnN3btpEmTknWpVHouTR0zgKWWL19eWp5LAx900EHJulzKeY899igtv//++5PrTJw4MVmX2u5vetObkutIz3QmIyKVUpARkUopyIhIpRRkRKRSCjIiUikFGRGplFLYLZBLz6bkpnpN9Tx+5plnkuvkprAdO3Zssm6//fYrLc+NQZxLlw8aNKi0PNcTfNGiRcm6BQsWJOtSPbuHDh2aXOeNN95I1qWkUuXSGJ3JiEilFGREpFIKMiJSKQUZEamUgoyIVErZpRZIzWS4atWq5DqpWSIB3vrWt5aW58YFdk9P3JDLLqXGDU7NitmT1PNt2LAhuU4uW5UbG/jRRx8tLd99992T6+QygUuXLi0tT3WclMboTEZEKqUgIyKVUpARkUopyIhIpRRkRKRSCjIiUqm2p7DN7DLgeGChu0+KZSOBa4GJwGzgVHd/rd1ta9a4ceNKy3Mp7IEDBybrUh3ycuncZcuWJet22223ZN3TTz9dWp7rSJhLb6fWy7Uvtf0Afvvb3ybrhg8fXlqemx64mSlst9tuu+Q6uc6Yuf2/NenEmczlwPvrys4HZrj73sCM+FhE+oG2Bxl3/w2wuK74BOCK+PcVwIntbJOIVKdb7smMcfd5APF3+VdoRaTP6XPdCsxsGjCt0+0QkcZ0y5nMAjMbCxB/L0wt6O7T3X2Ku09pW+tEpGndEmRuAc6If58B3NzBtohIC3UihX01cAQwyszmAl8Avg5cZ2ZnAXOAU9rdri0xatSo0vJcGjiXjp48eXJp+Z/+9KfkOitWrEjW5cbJTU05m5uKNtfjO/W+cu83l2LPjYWc6pU+YsSI5Dq5Hump58u1PbXvAebMmZOs25q0Pci4+2mJqqPb2hARaYtuuVwSkX5KQUZEKqUgIyKVUpARkUopyIhIpfrcN3670Q477FBa3uxg3Oeee25p+dSpU5Pr5Hp1z549O1mXSunm2p7reZzqGZ1Le99///3JupxUj+pcz+1cD+3UlL2///3vk+ukBpEHpbBrdCYjIpVSkBGRSinIiEilFGREpFIKMiJSKWWXWmDbbcs346BBg5Lr5Drqvfjii6Xluc6CS5YsSdbtvPPOybrBgweXlufavnz58mRdKruUy36lth+kM3cAQ4YMKS3/wx/+kFznvPPOS9bddNNNpeWpbQT5bSuBzmREpFIKMiJSKQUZEamUgoyIVEpBRkQqpSAjIpVSCrsF1q1bV1qemxL11ltvTdalxprNdUxcu3Ztsm7WrFnJuoMPPri0PPWeIJ/STa2X63C5aNGiZF0uvb14cf0cgcGb3vSm5Dp33nlnsm7NmjWl5bntnhtPWAKdyYhIpRRkRKRSCjIiUikFGRGplIKMiFSq7UHGzC4zs4Vm9nih7EIze8nMHok/x7a7XSJSjU6ksC8HvgdcWVf+TXe/uP3NaUxubNjU+LXbbbddcp2f/vSnybq5c+eWlm+//fbJdXJT4i5dujRZl+q9vX79+uQ6uZRuakrXXC/x1PsF2GOPPZJ1KePGjUvWzZ8/v9fPl0u/Dxs2rNfPt7Vp+5mMu/8GKP+Cg4j0O910T+YcM3s0Xk7pG04i/US3BJkfAG8CJgPzgEtSC5rZNDObaWYz29Q2EdkCXRFk3H2Bu7/h7huAHwGHZpad7u5T3H1K+1ooIs3qiiBjZsWxKE8CHk8tKyJ9S9uzS2Z2NXAEMMrM5gJfAI4ws8mAA7OBT7a7XT3ZbbfdknUbNmwoLc+Nk/vCCy8k6/bdd9/S8lWrViXXSY2tC3D44Ycn6x5/vDye52Z8zGXNUtmWBQsWJNfZZZddknXNdNRcsWJFcp2c1D7JZZdS4wzLRm0PMu5+Wknxpe1uh4i0R1dcLolI/6UgIyKVUpARkUopyIhIpRRkRKRSGuO3QblxbQcMGFBankt95lLOxx13XGl5bizcXAfJp59+OlmX6riY6wSZa0dqXOPZs2cn15kwYUKyLjd2cSqVvmzZsuQ6zchNsZvb7hLoTEZEKqUgIyKVUpARkUopyIhIpRRkRKRSCjIiUimlsBu0ww47JOtSqdRcL+y3ve1tybpRo0aVlufG3c310M6Na7vjjjuWlqemyu1JKm2fm2525sz0+GP7779/si61fXPbPSfVezv3dYPU1xdkI53JiEilFGREpFIKMiJSKQUZEamUgoyIVEpBRkQqpRR2g3LT1DaTSp00aVKv25AbINvMknW5gb9TUtPNQr7ncWoA8mYH3M61I9UzPvd+c/sxleqfOnVqcp1c+yTQmYyIVEpBRkQqpSAjIpVSkBGRSinIiEilOjFN7XjgSmBXYAMw3d2/bWYjgWuBiYSpak9199fa3b5mpDpP5joF5sb/TdWtXr06uU4uo5KaRhfybUzJZbJy7ysll4VLjUEMMG7cuNLy3Ps95JBDknUrV64sLc9lkHLbQoJOnMm8DnzG3fcH/gI428zeApwPzHD3vYEZ8bGI9HFtDzLuPs/d/xD/Xg48BewOnABcERe7Ajix3W0Tkdbr6D0ZM5sIHAQ8AIxx93kQAhEwuoNNE5EW6dg3fs1sOPAz4Dx3X9bota2ZTQOmVdk2EWmdjpzJmNlAQoC5yt1/HosXmNnYWD8WWFi2rrtPd/cp7j6lPa0VkS3R9iBj4ZTlUuApd/9GoeoW4Iz49xnAze1um4i0Xicul6YCHwMeM7NHYtkFwNeB68zsLGAOcEoH2paUS7Omxt7NXQLmxutNSXU+hHzqODfNajNj8rYzbZt7X6nUcq4DZ65jamq849xXB6RnbQ8y7n4fkDpKj25nW0SkevrGr4hUSkFGRCqlICMilVKQEZFKKciISKU0xm+Dhg0blqxLpYhzKeeRI0cm61LrNdPDGWDo0KHJumaeM9fjO5Xqb3Y619xXB9asWVNanmtfbj/m9ldKs/tka6ItJCKVUpARkUopyIhIpRRkRKRSCjIiUilllxrUzJi8q1atSq7zzDPPJOve9ra3lZbnxq7NybUjlfVJjVsMsG7dumRdakzeXJZo8eLFybpUp0VIz6iZm2kz11k0lYXLdWZtNmu2NdGZjIhUSkFGRCqlICMilVKQEZFKKciISKUUZESkUkphNyiXwk6lOOfPn59c5957703W/fVf/3VpeS7tnUsRDx8+PFm3du3a0vLcOLm550t1QMx1Psy9Vq6zY2qfjB6dnrLrlltuSdalxgzeeeedk+s0+7WCrYnOZESkUgoyIlIpBRkRqZSCjIhUSkFGRCrViWlqx5vZ3Wb2lJk9YWbnxvILzewlM3sk/hzb7raJSOt1IoX9OvAZd/+DmW0PPGRmd8W6b7r7xR1oU49yPY9XrlxZWp4agxbgscceS9ZdfHH5Jki9DuTTwCNGjEjWpdLAuZR9LkW8yy67lJYvW7Ysuc7SpUuTdZMnT07WpXp8v/rqq8l1HnjggV6/Vi5N3cx0w1ubTkxTOw+YF/9ebmZPAbu3ux0i0h4dvSdjZhOBg4Dax8s5ZvaomV1mZumPXxHpMzoWZMxsOPAz4Dx3Xwb8AHgTMJlwpnNJYr1pZjbTzGa2q60i0ryOBBkzG0gIMFe5+88B3H2Bu7/h7huAHwGHlq3r7tPdfYq7T2lfi0WkWZ3ILhlwKfCUu3+jUD62sNhJwOPtbpuItF4nsktTgY8Bj5nZI7HsAuA0M5sMODAb+GQH2iYiLdaJ7NJ9gJVU3dbutvTGrrvumqxL9Tzef//9k+ukej8DXH311Y03TFrmLW95S2n5kCFDkuuMHTs2WSeBvvErIpVSkBGRSinIiEilFGREpFIKMiJSKY3x26Df/va3ybrUGLA33XRTS9uQ67TYrNTYu7kxefur224rT3AefPDByXXuueeeilrTf+hMRkQqpSAjIpVSkBGRSinIiEilFGREpFIKMiJSKevLqUozewV4IT4cBaQHd22fbmhHN7QBuqMd3dAG2PJ27OHu5QMod7k+HWSKzGxmNwxk1Q3t6IY2dEs7uqEN3dSOTtDlkohUSkFGRCrVn4LM9E43IOqGdnRDG6A72tENbYDuaUfb9Zt7MiLSnfrTmYyIdKF+EWTM7P1m9oyZzTKz8zvUhtlm9licx7ttc0LFifAWmtnjhbKRZnaXmT0Xf1c6UV6iDW2d2zwzx3q7t4Xmeq/T5y+XzGwA8CzwXmAu8CBwmrs/2eZ2zAamuHtbv5NhZu8CVgBXuvukWPYvwGJ3/3oMuiPc/XNtbsOFwIp2zW0ep9QZW5xjHTgROJP2botUO06ljdujm/SHM5lDgVnu/ry7rwOuAU7ocJvaxt1/AyyuKz4BuCL+fQXhIG93G9rK3ee5+x/i38uB2hzr7d4WqXZstfpDkNkdeLHweC6d2akO3GlmD5nZtA68ftEYd58H4aAHRneoHR2Z27xujvWObQvN9R70hyBTNodTJ64Bp7r7wcBfAmfHS4itWUNzm7dayRzrHdHsXO/9UX8IMnOB8YXH44CX290Id385/l4I3EhiLu82WVCb9jf+XtjuBjQ6t3krlc2xTge2xZbM9d4f9Ycg8yCwt5ntaWaDgI8At7SzAWY2LN7kw8yGAcfQ2bm8bwHOiH+fAdzc7ga0e27z1BzrtHlbaK73zfX57BJATAd+CxgAXObuX23z6+9FOHuBMDj7T9vVBjO7GjiC0Mt3AfAF4CbgOmACMAc4xd0ruzGbaMMRhEuDP89tXrs3UlEbDgfuBR4DNsTiCwj3Q9q5LVLtOI02bo9u0i+CjIh0r/5wuSQiXUxBRkQqpSAjIpVSkBGRSinIiEil2hJkzGx07IU6scLXuNDMsp0TzexMM/PCz0Izu8PM0pMdlz/PEXH9SYUyN7Nzmm2/BGZ2g5ndU3jc436tW39QXGdyXfnEuI+Ob11rs+2YWHesLTezmWZ2ahPPtcmxZWb3mNkNrW1xddp1JjOa8N2JiW16vZ4cBbwD+CSwC3C3me3W2SZJwo+B9/Vi+UGEY21yXfk8wj6/rzXNathn4+t+CHgOuLZdga5bbNvpBnTIg+6+AsIo8oRpVU4HLupoq1rIzAa7+5oOvO4Qd1/dqudz97mEriNb+jxrgfu3vEW99oy73w9gZv8JHAz8HfCLDrSlEj3t8x7PZMzsHWZ2i5m9bGYr44A7p5cst4eZXW1mr5rZqtjb9KPxEumxuNjdtdPHuE7t8mV43XPNNrOLC4+PiwMOLTSzZWZ2v5kd0+A2yHL3F4FXiGdZ9a+da2dPzOwcC4MlrbUwoNanC3VHxud8a906I8xsnZmdVSg73Mx+HbfrIjP7Ua0bQ137Do2n0quBf+hNW0vaPtvMLjazz5vZfDNbYWZXmdmOhWVql43vi8fICuB7sW6CmV1jZotju+8ws33rXmO8md1mZqvj6328pB2bXS6Z2c5m9kMzm2dmaywMWHZerF4ef/+kcKkysexyycwGxOefE/fRE2b20brXujxe5rw3HtMrzey++v3WiNhv6RE2HmuXW90AZ2XtbISZHWVmD8TtscDMvl87Xi10e1lpZp8qWW+mmf1b4XF2vxXad7qZXWlmS4Bbc21r5HJpD+C3wMeBDxA6fv3EzE4rvPBo4PfAIYTTww8Q+m+MJ5ym1oLS2YRTx3c08LpFexLeyMcIp52/A243s6m9fJ7NxH/WkcD8LX2uuuf9BPBdQt+ZDwDXA5fYxpH7fk3YNvXX6CfF3zfG55kKzIjt+yvgPOBY4CclL3s14RPyWFrzSXka8B7gE8D/Ao4jXL7UuxT4I/BB4FIzG0m4LNkX+J+E9zgM+E8zGxLflxH6EU0CzorPfy49HBtx/XsI48J8mfBeLwFql7tHxd9fYeOxlvr6/peAfyIM8v1BwnF+VfHYjiYQznK/GrfJaOC6+B56ayKtP9beAvySMHnchwiXix8FbgBw95WE4+HDdevtBbwduDY+7nG/FVxMCOinAP8320B3b/iHMKzCtsAPgV8Vyr8GrCSMCFa23iRCn40j6srPjOXD68pnAxcnnmub2IY7CP2UauUXAq/20P7a6+0Yn2N83MCvA5NTr13fTkK/HAcmFZZx4JxCG18CflL3PN8HlgKD4+NvA0/XLXMH8IvC43uBu+uWOar4+oX2ndub/dnDtppNGIhqeKHsdEJ/nP3rtsM369b9MrAIGFkoGxHf+9nx8bFx3cMKy+wR98U9qf1KuI+2oba/Sto9PD7vmXXlE2P58fHxyHjMfqFuudsIlzi1x5fHNu1dKDsxPtd+me1Xe70PxmNtJPCPdcfJ5cDMXDvrj634+B7ghsLjawj3ewYUyk6N670jPj4JeAPYrbDM/477eFAv9lutfTc2eiw1crk0wsy+Y2YvAOvjzzRgn8JiRwG/9Io6fJnZODO7wsxeIuzw9YSezvvk10xaEp9jDqHtf+vuj7SgqTXjCJ+s19eVXwvsALyt8HhfMzsQwMxGxfbUPlmGEj6JrzOzbWs/hE+b9YRPoaL/aOF7ALjL472r6OeED5pDenjd9wB3AcsKbV5OGIqyNoviocACd68N6IS7vxCXyTkKeLgF+2sSMJTyfbRPPDuvme3uzxUe14Z2HdfA69xM2FeLCGdX3yCMLdNKhxL+6d8olP2M8L9yeHx8O2GI1FMKy3w4rrcuPm5kv9U0fKw1crl0eWzMRYR/7EOAy4DBhWV2Jn1KukXMbBvCJcc7gX8GjoxtuL2uDb3xLsJGm0gYOe3KLW/pJmrd+hfUldcej4y/f08IdLXT2A8RDoyb4uMRhJ7l32djgF8PrAUGsuk4OmWvt6U2GXvFw829FWx8f6nXHUV4T+vrfo5kY5t3rX/+stcs0apjrad9VBy5bkndMrV/ykaOv08Tjtf9CGeFn6kLBq0wlrr3EV9jEfFY85AEuJl4rMX7LAcSzoJqGtlvNQ0fa9nskpkNJlyHn+Pu/1oorw9Oi9j8wGtELfsxqK68uIPfTBjC8C/d/ZeFNtRfI/bGw3Wf0PVtqm/PyLIFM2r/BPVDPY6JvxcDuLub2XWEHXtB/H27h7FhIRzcTrhkuK3kdeoH52p1l/pN2h+3+XA2/yevf93FhA+GL5c8Z+29za9//sJr5rJTiwjHxJYq7qNFhfJN9lELzHL31OwVrTjWILyX+n01gBCQi+/jWuBWM5tAONZeAX5VqG9kv9U0fKz1dCazHeGTdG2tIN4o/WDdcjOA95nZGMqlIn8tNbl/4fkPI1xS1NSCSbENewBbfNM3YW6xPdF7m3iOl9n01BTCdfIyNmbbIHyS7BWzCe+m8Mni4Ybd/cC+7j6z5KfqEQDfa5tm1E4mHFw9TfkyA3gr8ERJm5+JyzwIjIn7GwiZDUKKt6fnPsjMDkjUN3qW8TiwivJ99Ky7v9LD+q0wF5gYP8xrenusQRgz56QYWGpOJpxEFL8XdCfwGuE9fphwX6d4VtXIfuu17JmMuy81sweBfzazZYQbbucTbgQVA8E3gb8B7jWzrxIG9t4fGObu/0K4JFgNnGFmS4H1Mbr/F+EG6XfM7PNsvDlWHJv1acLOuCQusz3wxbheFW4EvmtmFxD+EU4mbPiGufsGC1OC/NDMFhGuc99N+H7EBV74/oq7P2RmswgZjtVsnhX6R2CGmW0gZAuWE7IdxwH/5O7P9vYNWvgKwRfd/cIeFl0N/IeZXUQ4U72IcA3f03Qz3wD+GviVmX2XsK/GELbBfe5+NeHM7I/A9Wb2OcKn+pfo+XLpSkKW8s64jZ8hZB/3cffz3X2dmf03cKqFeaDWAI/WP4m7LzazbwH/x8xeJwTOkwk3pOuzS1W5ifCef2xmlxPO2P9HE8/zFeBh4CYz+wHhXtH/A+5w99/XFnL39WZ2IyGTNxaoT2k3st96r6c7w4RT018R7sTPIRz0F1KXySFkBq4lRMpVhAPoI4X60wnzI60LL/vn8kMI/8yr4oaaSl2GJy7zX4SD/jlCNuVyCnfmy9pU8l7OpCSbVbfMwLix58f38m3Cje6Gs0uFsnOAWfE9Pw98OvGaX4nrX52oP4yQolwW98OTsY07Nvq+Cs81NC77qR6Wm01IDV9IuP5eSUiR71RYZrPtUKjbjZBmX0A4C50N/Dvw1sIyE+L7Wk34QuQnCYE0mV2KZTsTxsldSAgiTwN/X6g/hhBY1sT2TaQ8azOA8IH1YtxHTwKn173WJseZJzJAJe+/x2UK++5PhOP/F4R7j73KLsWyowlnNGvidvl+2fFAuLnrhACyTW/3W6Pvq/ijkfG2MmZ2JOETdLxnRvO3MFndDe7+2TY1Tfop9cLe+rwT+HEuwIi00tbad2mr5W0eZF1El0siUqmuOpMxs/cTbrQOIJzSf72H5RUhG5DrYtOuD5mBAwcm69avX9+WNvR17t5MX6mO65ozmZjjf5bwPYG5hIzTaZ5Jl/blINPOf/whQ9LfW1y9umWjMmTtvnt6evKXXqrq2wib64aA26y+GmS66cbvoYRvRz7voS/FNcAJHW6TiGyhbgoyuxO+r1AzN5aJSB/WTfdkyk4FNzt/NbNphC/HiUgf0E1BZi6b9vQcx+YdAHH36YSv4PfpezIiW4tuulx6ENjbzPY0s0HARwg9QkWkD+uaMxl3f93CtA93EFLYl7n7Ex1uVmWayWT8zd/8TbLu5JNPTtadcEL6/vmsWbNKy5cvr+/Zv9GCBemhRN75zneWlufS1AsXpvtE3nprevjY6dOnl5b/6U9/Sq7T7Rmk/qhrggyAu99G+bgpItJHddPlkoj0QwoyIlIpBRkRqZSCjIhUqmv6LjWjL39P5uMf32yyxD8755xzSstzGZ81a9Iz0r7++uvJukmTJpWW77TTTsl1csfM2rVrS8uffvrp5Dq59zVs2LBk3T77lM+Ic//96dlo/+Ef0hNrpjJt3UJ9l0RESijIiEilFGREpFIKMiJSKQUZEamUgoyIVEop7ApdccUVybpU6hjSHRBzqd7cEJu59HaqLvd8226b7vKWer7cGL+DBtVPB73Rhg0bknUDBgwoLc+lvQ84IDW7Ley5556l5bnt3k5KYYuIlFCQEZFKKciISKUUZESkUgoyIlIpBRkRqZRS2C0wevTo0vJrrrkmuc6KFSuSdalZDnOp41xP62226f1nSS51nKtL2W677Zp6vjfeeCNZN3jw4NLyVatWJdfZcccdk3X33ntvafnnP//55DrtpBS2iEgJBRkRqZSCjIhUSkFGRCqlICMileqqyd3MbDawHHgDeN3dp3S2RSKypboqyERHuvurnW5Ebxx33HGl5bmUcypNnZNLU+c0k8LOyb2v1FcictPU5tqX6mkN6dR3rsd37vne8Y53JOukebpcEpFKdVuQceBOM3vIzKZ1ujEisuW67XJpqru/bGajgbvM7Gl3/01xgRh8FIBE+oiuOpNx95fj74XAjcChJctMd/cpuiks0jd0TZAxs2Fmtn3tb+AY4PHOtkpEtlQ3XS6NAW6MWZdtgZ+6+y8726TG7Lvvvr1eZ+jQocm6lStXlpY320Gy1Z0dc5mxVHYpl9XJdYLMZZ5S7zk3xm+uQ/DIkSOTddK8rgky7v48cGCn2yEirdU1l0si0j8pyIhIpRRkRKRSCjIiUikFGRGpVNdkl/qyiRMnlpbn0qWp8WkhnVbOTTebe61cyjmXWk5ppsNls2NJN5PCzn09YO3atcm61Hq5fZXbJxLoTEZEKqUgIyKVUpARkUopyIhIpRRkRKRSCjIiUimlsFsgNfVprofzunXrknXNjP+bk0sDp+pybc89X2q93Dq5MXmbea3c9sv1+E4ZN25csm7WrFm9fr6tjc5kRKRSCjIiUikFGRGplIKMiFRKQUZEKqXsUgukxpTNzZo4aNCgZF0zne5y2aBmxtDNPV8zY/zm1ml1Ni0nty1S73mnnXaqqDVbB53JiEilFGREpFIKMiJSKQUZEamUgoyIVEpBRkQq1fYUtpldBhwPLHT3SbFsJHAtMBGYDZzq7q+1u23NGjFiRGn54sWLk+vkxo1dvnx5aXluKtpcSrxd4/jmXiv3fLm0cjOdHZtte2qfpPavNKYTZzKXA++vKzsfmOHuewMz4mMR6QfaHmTc/TdA/Uf8CcAV8e8rgBPb2SYRqU633JMZ4+7zAOLv0R1uj4i0SJ/rVmBm04BpnW6HiDSmW85kFpjZWID4e2FqQXef7u5T3H1K21onIk3rliBzC3BG/PsM4OYOtkVEWqgTKeyrgSOAUWY2F/gC8HXgOjM7C5gDnNLudm2JZlLEuXVS6egVK1Yk18mlxHNSPY9z08q2epraXJo691qp52x2zODU8+WmvZWetT3IuPtpiaqj29oQEWmLbrlcEpF+SkFGRCqlICMilVKQEZFKKciISKX63Dd+u1EqLdrs1KzNpMRzmunJ3GzKOdX2Zgcmz9Vtu2354Zsqh/y2Te2T3L6SnulMRkQqpSAjIpVSkBGRSinIiEilFGREpFLKLjWomQxILkPTzGvlxvjNZbKamQa22XFyU3IZn2a3UypjlcsgDRkyJFmXmlZ4u+22613DZBM6kxGRSinIiEilFGREpFIKMiJSKQUZEamUgoyIVEop7AY1k4LNTb+aSxGnUtXNjE/b03rNpN9zHQZXrVpVWp5LA+fqch0rU23MpamXLFmSrFu3bl1peW4KYOmZzmREpFIKMiJSKQUZEamUgoyIVEpBRkQq1fYgY2aXmdlCM3u8UHahmb1kZo/En2Pb3S4RqUYnUtiXA98Drqwr/6a7X9z+5jQml7ZNpVJb3Qs7l4pudV0udZyrS6Wjcz3Bc9upmbGGc/sq15M9VacU9pZp+5mMu/8GWNzu1xWRzuimezLnmNmj8XJqRKcbIyKt0S1B5gfAm4DJwDzgktSCZjbNzGaa2cw2tU1EtkBXBBl3X+Dub7j7BuBHwKGZZae7+xR3n9K+FopIs7oiyJjZ2MLDk4DHU8uKSN/S9uySmV0NHAGMMrO5wBeAI8xsMuDAbOCT7W5XT3IdJJvJ0AwdOjRZN3z48NLyV199NblOq7M3zXbGbGY84WZnl0xlsnIdLtesWZOs23777UvLc/tKetb2IOPup5UUX9rudohIe3TF5ZKI9F8KMiJSKQUZEamUgoyIVEpBRkQqpTF+G5RLYaekpj3tqW7hwoWl5bmOerlUbzPj5OZS2LnnS2kmtQ35cZJTbX/ttdeS6zTTeXLYsGHJdaRnOpMRkUopyIhIpRRkRKRSCjIiUikFGRGplIKMiFRKKewG5VKwAwYM6PU6K1euTNalplLdaaedkuvkekan2peTa3suDdyMXEo8l7ZPpar/8Ic/JNeZOHFisi41Ta16YW8ZncmISKUUZESkUgoyIlIpBRkRqZSCjIhUSkFGRCqlFHaDcr2wUz2Fc6nZFStWJOvWrl1bWp4bILuZntbQ3CDouR7aqTRwLo2eS5c3M5D4qlWrkuvk0u+prxXk3q/0TFtPRCqlICMilVKQEZFKKciISKUUZESkUp2YpnY8cCWwK7ABmO7u3zazkcC1wETCVLWnunt6sNY2y3VOTHXiGzJkSHKdXHYplc3IZTlyYwY3M/5vs9PUNpOJyWWecq+Vms73lVdeSa7TTMfP3DjD0rNOnMm8DnzG3fcH/gI428zeApwPzHD3vYEZ8bGI9HFtDzLuPs/d/xD/Xg48BewOnABcERe7Ajix3W0Tkdbr6D0ZM5sIHAQ8AIxx93kQAhEwuoNNE5EW6dg3fs1sOPAz4Dx3X9bovDxmNg2YVmXbRKR1OnImY2YDCQHmKnf/eSxeYGZjY/1YoHSGM3ef7u5T3H1Ke1orIlui7UHGwinLpcBT7v6NQtUtwBnx7zOAm9vdNhFpvU5cLk0FPgY8ZmaPxLILgK8D15nZWcAc4JQOtC1p2bJlybpUh8Zc+jXVkRBghx126PXz5VLHuRRxamrW3Gul1unptVKamfYW0l8deOqpp5LrvP3tb0/WpbbhmjVretcw2UTbg4y73wekbsAc3c62iEj19I1fEamUgoyIVEpBRkQqpSAjIpVSkBGRSmmM3wbNmzcvWdfM9KYzZsxI1qXGqD399NOT6+TalxufOCWXEs/VpXos577RnevlnOvJntpOt956a3Kdv/u7v0vWLV++vLRcKewtozMZEamUgoyIVEpBRkQqpSAjIpVSkBGRSim71AIvvPBCafnYsWOT6yxcWDqSBQD7779/aXmuc9/DDz+crMt1WmxmTN7cOs10dsw9Xy4ztttuu5WW5zp35qRmpMx1ZpWe6UxGRCqlICMilVKQEZFKKciISKUUZESkUgoyIlIppbBbINXBL5fOHTx4cLLuX//1X0vLDzvssOQ6ixYtStblOmqmxutNdT6EfIo49Z5zHSRzz5dreyptn+ss+uyzzybrUtPU5rat9ExnMiJSKQUZEamUgoyIVEpBRkQqpSAjIpXqxDS1483sbjN7ysyeMLNzY/mFZvaSmT0Sf45td9tEpPU6kcJ+HfiMu//BzLYHHjKzu2LdN9394g60aYukUtjN9sJOpVmnTp3au4bJZnLp8vHjx5eWz507t6rmbBU6MU3tPGBe/Hu5mT0F7N7udohIe3T0noyZTQQOAh6IReeY2aNmdpmZjehcy0SkVToWZMxsOPAz4Dx3Xwb8AHgTMJlwpnNJYr1pZjbTzGa2q60i0ryOBBkzG0gIMFe5+88B3H2Bu7/h7huAHwGHlq3r7tPdfYq7T2lfi0WkWZ3ILhlwKfCUu3+jUF68S3oS8Hi72yYirdeJ7NJU4GPAY2b2SCy7ADjNzCYDDswGPtmBtolIi3Uiu3QfUNYl97Z2t6VVUj2MH3vsseQ6y5Yt6/XrtHoA761Rrlf3008/XVqe60EuPdM3fkWkUgoyIlIpBRkRqZSCjIhUSkFGRCplzU7p2Q3MrO82vsWaHUNX+g5375NpLp3JiEilFGREpFIKMiJSKQUZEamUgoyIVEpBRkQq1denqX0VeCH+PSo+7rSOtKMuTb1Vb4subANseTv2aFVD2q1Pf0+myMxmdsNAVt3Qjm5oQ7e0oxva0E3t6ARdLolIpRRkRKRS/SnITO90A6JuaEc3tAG6ox3d0Abonna0Xb+5JyMi3ak/ncmISBfqF0HGzN5vZs+Y2SwzO79DbZhtZo/FebzbNidUnAhvoZk9XigbaWZ3mdlz8XelE+Ul2tDWuc0zc6y3e1torvc6ff5yycwGAM8C7wXmAg8Cp7n7k21ux2xgiru39TsZZvYuYAVwpbtPimX/Aix296/HoDvC3T/X5jZcCKxo19zmcUqdscU51oETgTNp77ZIteNU2rg9ukl/OJM5FJjl7s+7+zrgGuCEDrepbdz9N8DiuuITgCvi31cQDvJ2t6Gt3H2eu/8h/r0cqM2x3u5tkWrHVqs/BJndgRcLj+fSmZ3qwJ1m9pCZTevA6xeNcfd5EA56YHSH2tGRuc3r5ljv2LbQXO9BfwgyZaOFdeIacKq7Hwz8JXB2vITYmjU0t3mrlcyx3hHNzvXeH/WHIDMXGF94PA54ud2NcPeX4++FwI0k5vJukwW1aX/j74XtbkCjc5u3Utkc63RgW2zJXO/9UX8IMg8Ce5vZnmY2CPgIcEs7G2Bmw+JNPsxsGHAMnZ3L+xbgjPj3GcDN7W5Au+c2T82xTpu3heZ631yfzy4BxHTgt4ABwGXu/tU2v/5ehLMXCD3bf9quNpjZ1cARhF6+C4AvADcB1wETgDnAKe5e2Y3ZRBuOIFwa/Hlu89q9kYracDhwL/AYUJuz9wLC/ZB2botUO06jjdujm/SLICMi3as/XC6JSBdTkBGRSinIiEilFGREpFIKMiJSqbYEGTMbHXuhTqzwNS40s2znRDM708y88LPQzO4ws4N7+VpHxPUnFcrczM5ptv0SmNkNZnZP4XGP+7Vu/UFxncl15RPjPjq+da3NtmNi3bG23MxmmtmpTTzXJseWmd1jZje0tsXVadeZzGjCdycmtun1enIU8A7gk8AuwN1mtltnmyQJPwbe14vlBxGOtcl15fMI+/y+1jSrYZ+Nr/sh4Dng2nYFum7R16dEadaD7r4CwijyhGlVTgcu6mirWsjMBrv7mg687hB3X92q53P3uYSuI1v6PGuB+7e8Rb32jLvfD2Bm/wkcDPwd8IsOtKUSPe3zHs9kzOwdZnaLmb1sZivjgDunlyy3h5ldbWavmtmq2Nv0o/ES6bG42N2108e4Tu3yZXjdc802s4sLj4+LAw4tNLNlZna/mR3T4DbIcvcXgVeIZ1n1r51rZ0/M7BwLgyWttTCg1qcLdUfG53xr3TojzGydmZ1VKDvczH4dt+siM/tRrRtDXfsOjafSq4F/6E1bS9o+28wuNrPPm9l8M1thZleZ2Y6FZWqXje+Lx8gK4HuxboKZXWNmi2O77zCzfeteY7yZ3WZmq+PrfbykHZtdLpnZzmb2QzObZ2ZrLAxYdl6sXh5//6RwqTKx7HLJzAbE558T99ETZvbRute6PF7mvDce0yvN7L76/daI2G/pETYea5db3QBnZe1shJkdZWYPxO2xwMy+XzteLXR7WWlmnypZb6aZ/VvhcXa/Fdp3upldaWZLgFtzbWvkcmkP4LfAx4EPEDp+/cTMTiu88Gjg98AhhNPDDxD6b4wnnKbWgtLZhFPHdzTwukV7Et7Ixwinnb8Dbjezqb18ns3Ef9aRwPwtfa665/0E8F1C35kPANcDl9jGkft+Tdg29dfoJ8XfN8bnmQrMiO37K+A84FjgJyUvezXhE/JYWvNJeRrwHuATwP8CjiNcvtS7FPgj8EHgUjMbSbgs2Rf4n4T3OAz4TzMbEt+XEfoRTQLOis9/Lj0cG3H9ewjjwnyZ8F4vAWqXu0fF319h47GW+vr+l4B/Igzy/UHCcX5V8diOJhDOcr8at8lo4Lr4HnprIq0/1t4C/JIwedyHCJeLHwVuAHD3lYTj4cN16+0FvB24Nj7ucb8VXEwI6KcA/zfbQHdv+IcwrMK2wA+BXxXKvwasJIwIVrbeJEKfjSPqys+M5cPrymcDFyeea5vYhjsI/ZRq5RcCr/bQ/trr7RifY3zcwK8Dk1OvXd9OQr8cByYVlnHgnEIbXwJ+Uvc83weWAoPj428DT9ctcwfwi8Lje4G765Y5qvj6hfad25v92cO2mk0YiGp4oex0Qn+c/eu2wzfr1v0ysAgYWSgbEd/72fHxsXHdwwrL7BH3xT2p/Uq4j7ahtr9K2j08Pu+ZdeUTY/nx8fHIeMx+oW652wiXOLXHl8c27V0oOzE+136Z7Vd7vQ/GY20k8I91x8nlwMxcO+uPrfj4HuCGwuNrCPd7BhTKTo3rvSM+Pgl4A9itsMz/jvt4UC/2W619NzZ6LDVyuTTCzL5jZi8A6+PPNGCfwmJHAb/0ijp8mdk4M7vCzF4i7PD1hJ7O++TXTFoSn2MOoe1/6+6PtKCpNeMIn6zX15VfC+wAvK3weF8zOxDAzEbF9tQ+WYYSPomvM7Ntaz+ET5v1hE+hov9o4XsAuMvjvavo54QPmkN6eN33AHcBywptXk4YirI2i+KhwAJ3rw3ohLu/EJfJOQp4uAX7axIwlPJ9tE88O6+Z7e7PFR7XhnYd18Dr3EzYV4sIZ1ffIIwt00qHEv7p3yiU/Yzwv3J4fHw7YYjUUwrLfDiuty4+bmS/1TR8rDVyuXR5bMxFhH/sQ4DLgMGFZXYmfUq6RcxsG8IlxzuBfwaOjG24va4NvfEuwkabSBg57cotb+kmat36F9SV1x6PjL9/Twh0tdPYDxEOjJvi4xGEnuXfZ2OAXw+sBQay6Tg6Za+3pTYZe8XDzb0VbHx/qdcdRXhP6+t+jmRjm3etf/6y1yzRqmOtp31UHLluSd0ytX/KRo6/TxOO1/0IZ4WfqQsGrTCWuvcRX2MR8VjzkAS4mXisxfssBxLOgmoa2W81DR9r2eySmQ0mXIef4+7/WiivD06L2PzAa0Qt+zGorry4g99MGMLwL939l4U21F8j9sbDdZ/Q9W2qb8/IsgUzav8E9UM9jom/FwO4u5vZdYQde0H8fbuHsWEhHNxOuGS4reR16gfnanWX+k3aH7f5cDb/J69/3cWED4Yvlzxn7b3Nr3/+wmvmslOLCMfEliruo0WF8k32UQvMcvfU7BWtONYgvJf6fTWAEJCL7+Na4FYzm0A41l4BflWob2S/1TR8rPV0JrMd4ZN0ba0g3ij9YN1yM4D3mdkYyqUify01uX/h+Q8jXFLU1IJJsQ17AFt80zdhbrE90XubeI6X2fTUFMJ18jI2ZtsgfJLsFbMJ76bwyeLhht39wL7uPrPkp+oRAN9rm2bUTiYcXD1N+TIDeCvwREmbn4nLPAiMifsbCJkNQoq3p+c+yMwOSNQ3epbxOLCK8n30rLu/0sP6rTAXmBg/zGt6e6xBGDPnpBhYak4mnEQUvxd0J/Aa4T1+mHBfp3hW1ch+67XsmYy7LzWzB4F/NrNlhBtu5xNuBBUDwTeBvwHuNbOvEgb23h8Y5u7/QrgkWA2cYWZLgfUxuv8X4Qbpd8zs82y8OVYcm/Vpws64JC6zPfDFuF4VbgS+a2YXEP4RTiZs+Ia5+wYLU4L80MwWEa5z3034fsQFXvj+irs/ZGazCBmO1WyeFfpHYIaZbSBkC5YTsh3HAf/k7s/29g1a+ArBF939wh4WXQ38h5ldRDhTvYhwDd/TdDPfAP4a+JWZfZewr8YQtsF97n414czsj8D1ZvY5wqf6l+j5culKQpbyzriNnyFkH/dx9/PdfZ2Z/TdwqoV5oNYAj9Y/ibsvNrNvAf/HzF4nBM6TCTek67NLVbmJ8J5/bGaXE87Y/0cTz/MV4GHgJjP7AeFe0f8D7nD339cWcvf1ZnYjIZM3FqhPaTey33qvpzvDhFPTXxHuxM8hHPQXUpfJIWQGriVEylWEA+gjhfrTCfMjrQsv++fyQwj/zKvihppKXYYnLvNfhIP+OUI25XIKd+bL2lTyXs6kJJtVt8zAuLHnx/fybcKN7oazS4Wyc4BZ8T0/D3w68Zpfietfnag/jJCiXBb3w5OxjTs2+r4KzzU0LvupHpabTUgNX0i4/l5JSJHvVFhms+1QqNuNkGZfQDgLnQ38O/DWwjIT4vtaTfhC5CcJgTSZXYplOxPGyV1ICCJPA39fqD+GEFjWxPZNpDxrM4DwgfVi3EdPAqfXvdYmx5knMkAl77/HZQr77k+E4/8XhHuPvcouxbKjCWc0a+J2+X7Z8UC4ueuEALJNb/dbo++r+KOR8bYyZnYk4RN0vGdG87cwWd0N7v7ZNjVN+in1wt76vBP4cS7AiLTS1tp3aavlbR5kXUSXSyJSqa46kzGz9xNutA4gnNJ/vYflFSGjwYPTGdttt03v5rVr1ybrmjFkSPnXl1LlAK+99lqybt26dcm6rY27N9NXquO65kwm5vifJXxPYC4h43SaZ9Kl3R5kttkmfctrw4YNybpmTJo0KVk3cmT6+13//d//XVr+xhvpL6Xm+gW+7W1vKy3Pte+6665L1s2ZMydZ12qp99Ut/yN9Nch0043fQwnfjnzeQ1+Ka4ATOtwmEdlC3RRkdid8X6FmbiwTkT6sm+7JlJ0KbnaeambTCF+OE5E+oJuCzFw27ek5js07AOLu0wlfwe/6ezIi0l2XSw8Ce5vZnmY2CPgIoUeoiPRhXZNdAjCzY4FvEVLYl/X0xbFWn8nksiat3k65tPLRRx9dWv6Wt7wluc7EiROTdU888USybtGiRaXl22+/fWk5wOGHH56sS2XUclmioUOHJuuWL68fYWCjRx55pLR85sx0J/F583o/FE07j4ucvppd6qbLJdz9NsrHTRGRPqqbLpdEpB9SkBGRSinIiEilFGREpFJdlV3qrW7/nsx+++2XrPvoRz+arEtlfFasSI19DgMHDkzWDR+envhy6dKlpeW7757+svXo0WXjfwezZ88uLV+wID24fa7tubpUp9Dtttsuuc6sWbOSdTfc0N1z2PfV7JLOZESkUgoyIlIpBRkRqZSCjIhUSkFGRCqlICMilVIKu6DZ4TJTqep3vetdyXVWrlyZrFu1alVpeW4c39Wr09NH58bXHTSofirmILctlixZkqxLyaWVc3LH5+uvv15anutwmUvn33333aXlTz/9dHKdAQMGJOtyQ5g2QylsEZESCjIiUikFGRGplIKMiFRKQUZEKqUgIyKV6qrhN/uqt7/97aXluSlgc+nNVFo0N51rLk398subTfrwZ+vXry8tX7ZsWXKdXBo4lerfeeedk+vstNNOybrc+Lqputx2z6Wc99xzz9LyXApbeqYzGRGplIKMiFRKQUZEKqUgIyKVUpARkUp1VXbJzGYDy4E3gNfdfUpnWyQiW6qrgkx0pLu/2okXzvW0ztlhhx1KyxcvXpxcJ5cGfuihh0rLzz333OQ6uYG/b7/99mTdwQcfXFqe69WdG4w7Na1sqmc5wOOPP56sy72v1CDjuZ7bubqRI0cm61Ja3dO6P9LlkohUqtuCjAN3mtlDZjat040RkS3XbZdLU939ZTMbDdxlZk+7+2+KC8TgowAk0kd01ZmMu78cfy8EbgQOLVlmurtP0U1hkb6ha4KMmQ0zs+1rfwPHAOk7giLSJ3TT5dIY4MbY6W1b4Kfu/svONmmjXXbZJVmXyljkOjQecMABybqHH364tHzHHXdMrpObznXUqFHJut122620/KijjkquM2fOnGTdXXfdVVqeysABnHTSScm6r3/968m6ESNGlJbntlMuu5RrozSva4KMuz8PHNjpdohIa3XN5ZKI9E8KMiJSKQUZEamUgoyIVEpBRkQq1TXZpW6X66iXGms21ylwzZo1ybrx48eXlr/00kvJdd70pjcl63KdHZ955pnS8gMPTCf65s+fn6xLdRjca6+9kuukUtEA226bPkRT4xDvuuuuyXVSU9vmXiuXEl+6dGmyTgKdyYhIpRRkRKRSCjIiUikFGRGplIKMiFRKQUZEKqUUdoNyY/Km0tG5dGkuDZzqUZ1LYW+33XbJuo997GPJus997nOl5R/4wAeS6+R6Mr/44oul5e9617uS6/zud79L1m2//fbJutxUuim5rw6kvnKQS4krhd0zncmISKUUZESkUgoyIlIpBRkRqZSCjIhUStmlBg0bNixZl+oUuM026Ri+bt26ZN2kSZNKy1OdGQFmzJiRrNt7772TdamOn+PGjUuu88gjjyTrvvKVr5SW33PPPcl1zj777GRdbtzdV155pbQ8t91zs4Sm1stlFqVnOpMRkUopyIhIpRRkRKRSCjIiUikFGRGplIKMiFSq7SlsM7sMOB5Y6O6TYtlI4FpgIjAbONXd03O8dsCQIUOSdakUdi5dmutkOHr06NLyVHoY0uMCQz5d/uqrr5aW56bYffLJJ5N1Kffdd1+y7rzzzkvWrVixIlk3YMCA0vLcuMC59HZKrpOm9KwTZzKXA++vKzsfmOHuewMz4mMR6QfaHmTc/TfA4rriE4Ar4t9XACe2s00iUp1uuSczxt3nAcTf5dcLItLn9LluBWY2DZjW6XaISGO65UxmgZmNBYi/F6YWdPfp7j7F3ae0rXUi0rRuCTK3AGfEv88Abu5gW0SkhTqRwr4aOAIYZWZzgS8AXweuM7OzgDnAKe1uV09yadHU2LC53rsLFixI1v3xj38sLf/EJz6RXOfcc89N1uXa/r73va+0fPHi+nvzG5166qnJutS4xjfeeGNynVSvc8iPoZv66kBuWtlcSjwl1xNcetb2IOPupyWqjm5rQ0SkLbrlcklE+ikFGRGplIKMiFRKQUZEKqUgIyKV6nPf+O2U3DSwS5YsKS3P9d59/vnnk3V77bVXaXkqVQ75VG9uUPBUujc3BWwuJf72t7+9tPyggw5KrrPHHnsk63LbcPny5aXl69evT66TS0enes3nBpGXnulMRkQqpSAjIpVSkBGRSinIiEilFGREpFLKLjUoNZ4spLMZuQ6Sc+bMSdYde+yxpeV33313cp0vf/nLybqPfOQjybr58+eXlr/zne9MrpPK6gB85jOfKS0//vjjk+s0M+4ugJmVlue2bW7K3mamvc1l2lKdRbc2OpMRkUopyIhIpRRkRKRSCjIiUikFGRGplIKMiFRKKewGDRo0qNfr5KaiTY1PCzB48ODS8n333Te5Ti5FvGjRomTdn/70p9LyAw44ILnOnXfemax74oknSssPP/zw5Dqp1DHAmjVrknU777xzafmsWbOS60yePDlZ9/LLL5eW56YbHjp0aLIu18l0a6IzGRGplIKMiFRKQUZEKqUgIyKVUpARkUq1PciY2WVmttDMHi+UXWhmL5nZI/GnvIegiPQ5nUhhXw58D7iyrvyb7n5x+5vTmIEDBybrUj20c2PN5lKzqbpdd901uc5zzz2XrHvXu96VrEulYHfffffkOqNGjUrWpaxbt67XbYD8+LorV64sLV+4cGHjDStIfeUgN75zbgxipbCDtp/JuPtvgPREyyLSr3TTPZlzzOzReDk1otONEZHW6JYg8wPgTcBkYB5wSWpBM5tmZjPNbGab2iYiW6Argoy7L3D3N9x9A/Aj4NDMstPdfYq7T2lfC0WkWV0RZMxsbOHhScDjqWVFpG9pe3bJzK4GjgBGmdlc4AvAEWY2GXBgNvDJdrcL8lmEXKYoJdcJMpdtSXXIy63z4IMPJuv+9m//NlmX6tC4du3a5DrNZG9ynSBzHUlz2z01hnKu7blxd3Pj9abkso4StD3IuPtpJcWXtrsdItIeXXG5JCL9l4KMiFRKQUZEKqUgIyKVUpARkUppjN+CXGe31JSokJ7GNDc2bE4qNXvTTTcl1/ne976XrHvhhReSdanxf3Pp3NQYxLm6gw46KLnOv//7vyfrli5dmqzbc889S8tzKfHVq1cn65qR68Apgc5kRKRSCjIiUikFGRGplIKMiFRKQUZEKqUgIyKVUgq7YIcddkjW5dKiqfR2M716AebPn19afvrppyfXmTBhQrLu17/+dbIuNZ5wbhzf3Ni1qefLTfOb27ZDhgxJ1qV6VKfGXAZYvnx5sq6Zrxzkeu5LoDMZEamUgoyIVEpBRkQqpSAjIpVSkBGRSinIiEillMIuSPWmhvyg4Kmex7l0aU4qlT5v3rzkOt/61reSdU8++WSyLjXo9imnnJJcJ9eON73pTaXlv/3tb5Pr5FLHuRRxan/lBgvPTQ+c2o8rVqzo9Tqykc5kRKRSCjIiUikFGRGplIKMiFRKQUZEKtWJaWrHA1cCuwIbgOnu/m0zGwlcC0wkTFV7qru/1s62NZspSHWEzE0r24znn38+WZfLmgwdOrTXdWeddVZynZ122ilZ97a3va20vNnxjnPT1KY6Xea2e65zZ6qT6WuvpQ/DZjvBbk06cSbzOvAZd98f+AvgbDN7C3A+MMPd9wZmxMci0se1Pci4+zx3/0P8eznwFLA7cAJwRVzsCuDEdrdNRFqvo/dkzGwicBDwADDG3edBCETA6A42TURapGMXlGY2HPgZcJ67L8vNa1S33jRgWpVtE5HW6ciZjJkNJASYq9z957F4gZmNjfVjgYVl67r7dHef4u5T2tNaEdkSbQ8yFk5ZLgWecvdvFKpuAc6If58B3NzutolI63Xicmkq8DHgMTN7JJZdAHwduM7MzgLmAOkeehXJTTma63SXGlM2ly7NST1fLhWdG5+4mfTxPvvsk6zLdRZtRq59uRRxqi7X0fXVV19N1qU6d+beb248YQnaHmTc/T4gdQPm6Ha2RUSqp2/8ikilFGREpFIKMiJSKQUZEamUgoyIVEpdSAtyvbBzKezhw4eXlufGws2lo1O9i3NjBm+//fbJutw0sKn0cbNp6tRr5XpG51LOufR2quf5zjvvnFwntx9z2ylFKeye6UxGRCqlICMilVKQEZFKKciISKUUZESkUsouFQwZMiRZlxtrNpVhWL16dXKdXCYr1bFy7NixyXWa7WSYkhszOJd5So0LlOvAmcv45N5XKkO3yy67JNdZunRpsi6V5cq1YeDAgck6CXQmIyKVUpARkUopyIhIpRRkRKRSCjIiUikFGRGplFLYDWomvZ3rFDhu3Lhk3YgRI0rLcynxnFwHxFSnwB133DG5Tm76mmY6GeZSxM2Mr7v77rsn1/n973+frEulxHNfN2h2n2xNdCYjIpVSkBGRSinIiEilFGREpFIKMiJSqU5MUzvezO42s6fM7AkzOzeWX2hmL5nZI/Hn2Ha3TURarxMp7NeBz7j7H8xse+AhM7sr1n3T3S/uQJsAWLFiRbIul3JOpT5zPbefeeaZZN3DDz9cWt7sWLi5NHAq5ZxrezM9vnNj4ebS3rlezqlU/6JFi5LrLFy4MFmX2r658ZPnzJmTrJOgE9PUzgPmxb+Xm9lTQPqLDSLSp3X0noyZTQQOAh6IReeY2aNmdpmZlX9MiUif0rEgY2bDgZ8B57n7MuAHwJuAyYQznUsS600zs5lmNrNdbRWR5nUkyJjZQEKAucrdfw7g7gvc/Q133wD8CDi0bF13n+7uU9x9SvtaLCLN6kR2yYBLgafc/RuF8uLYkicBj7e7bSLSep3ILk0FPgY8ZmaPxLILgNPMbDLgwGzgkx1om4i0WCeyS/cBZd14b2t3W+rl0tSpqWghndLN9cLOueGGG5paT7ZMKs2+3Xbb9Xod2Ujf+BWRSinIiEilFGREpFIKMiJSKQUZEamUxvgtePTRR5N1K1euTNYtX768pe1IdTJsZvzcvi73nnMdNZvxxz/+sbQ81QEW8uMdS6AzGRGplIKMiFRKQUZEKqUgIyKVUpARkUopyIhIpawvp0XN7BXghfhwFPBqB5tT0w3t6IY2QHe0oxvaAFvejj3cfZdWNaad+nSQKTKzmd0wkFU3tKMb2tAt7eiGNnRTOzpBl0siUikFGRGpVH8KMtM73YCoG9rRDW2A7mhHN7QBuqcdbddv7smISHfqT2cyItKF+kWQMbP3m9kzZjbLzM7vUBtmm9ljcR7vts0JFSfCW2hmjxfKRprZXWb2XPxd6UR5iTa0dW7zzBzr7d4Wmuu9Tp+/XDKzAcCzwHuBucCDwGnu/mSb2zEbmOLubf1Ohpm9C1gBXOnuk2LZvwCL3f3rMeiOcPfPtbkNFwIr2jW3eZxSZ2xxjnXgROBM2rstUu04lTZuj27SH85kDgVmufvz7r4OuAY4ocNtaht3/w2wuK74BOCK+PcVhIO83W1oK3ef5+5/iH8vB2pzrLd7W6TasdXqD0Fmd+DFwuO5dGanOnCnmT1kZtM68PpFY9x9HoSDHhjdoXZ0ZG7zujnWO7YtNNd70B+CTNnQZJ24Bpzq7gcDfwmcHS8htmYNzW3eaiVzrHdEs3O990f9IcjMBcYXHo8DXm53I9z95fh7IXAjibm822RBbdrf+HthuxvQ6NzmrVQ2xzod2BZbMtd7f9QfgsyDwN5mtqeZDQI+AtzSzgaY2bB4kw8zGwYcQ2fn8r4FOCP+fQZwc7sb0O65zVNzrNPmbaG53jfX57NLADEd+C1gAHCZu3+1za+/F+HsBcLg7D9tVxvM7GrgCEIv3wXAF4CbgOuACcAc4BR3r+zGbKINRxAuDf48t3nt3khFbTgcuBd4DKiNMH4B4X5IO7dFqh2n0cbt0U36RZARke7VHy6XRKSLKciISKUUZESkUgoyIlIpBRkRqVRbgoyZjY69UCdW+BoXmlm2c6KZnWlmXvhZaGZ3mNnBvXytI+L6kwplbmbnNNt+CczsBjO7p/C4x/1at/6guM7kuvKJcR8d37rWZtsxse5YW25mM83s1Caea5Njy8zuMbMbWtvi6rTrTGY04bsTE9v0ej05CngH8ElgF+BuM9uts02ShB8D7+vF8oMIx9rkuvJ5hH1+X2ua1bDPxtf9EPAccG27Al232LbTDeiQB919BYRR5AnTqpwOXNTRVrWQmQ129zUdeN0h7r66Vc/n7nMJXUe29HnWAvdveYt67Rl3vx/AzP4TOBj4O+AXHWhLJXra5z2eyZjZO8zsFjN72cxWxgF3Ti9Zbg8zu9rMXjWzVbG36UfjJdJjcbG7a6ePcZ3a5cvwuueabWYXFx4fFwccWmhmy8zsfjM7psFtkOXuLwKvEM+y6l87186emNk5FgZLWmthQK1PF+qOjM/51rp1RpjZOjM7q1B2uJn9Om7XRWb2o1o3hrr2HRpPpVcD/9Cbtpa0fbaZXWxmnzez+Wa2wsyuMrMdC8vULhvfF4+RFcD3Yt0EM7vGzBbHdt9hZvvWvcZ4M7vNzFbH1/t4STs2u1wys53N7IdmNs/M1lgYsOy8WL08/v5J4VJlYtnlkpkNiM8/J+6jJ8zso3WvdXm8zHlvPKZXmtl99futEbHf0iNsPNYut7oBzsra2QgzO8rMHojbY4GZfb92vFro9rLSzD5Vst5MM/u3wuPsfiu073Qzu9LMlgC35trWyOXSHsBvgY8DHyB0/PqJmZ1WeOHRwO+BQwinhx8g9N8YTzhNrQWlswmnju9o4HWL9iS8kY8RTjt/B9xuZlN7+Tybif+sI4H5W/pcdc/7CeC7hL4zHwCuBy6xjSP3/Zqwbeqv0U+Kv2+MzzMVmBHb91fAecCxwE9KXvZqwifksbTmk/I04D3AJ4D/BRxHuHypdynwR+CDwKVmNpJwWbIv8D8J73EY8J9mNiS+LyP0I5oEnBWf/1x6ODbi+vcQxoX5MuG9XgLULnePir+/wsZjLfX1/S8B/0QY5PuDhOP8quKxHU0gnOV+NW6T0cB18T301kRaf6y9BfglYfK4DxEuFz8K3ADg7isJx8OH69bbC3g7cG183ON+K7iYENBPAf5vtoHu3vAPYViFbYEfAr8qlH8NWEkYEaxsvUmEPhtH1JWfGcuH15XPBi5OPNc2sQ13EPop1covBF7tof2119sxPsf4uIFfByanXru+nYR+OQ5MKizjwDmFNr4E/KTueb4PLAUGx8ffBp6uW+YO4BeFx/cCd9ctc1Tx9QvtO7c3+7OHbTWbMBDV8ELZ6YT+OPvXbYdv1q37ZWARMLJQNiK+97Pj42PjuocVltkj7ot7UvuVcB9tQ21/lbR7eHzeM+vKJ8by4+PjkfGY/ULdcrcRLnFqjy+Pbdq7UHZifK79Mtuv9nofjMfaSOAf646Ty4GZuXbWH1vx8T3ADYXH1xDu9wwolJ0a13tHfHwS8AawW2GZ/x338aBe7Lda+25s9Fhq5HJphJl9x8xeANbHn2nAPoXFjgJ+6RV1+DKzcWZ2hZm9RNjh6wk9nffJr5m0JD7HHELb/9bdH2lBU2vGET5Zr68rvxbYAXhb4fG+ZnYggJmNiu2pfbIMJXwSX2dm29Z+CJ826wmfQkX/0cL3AHCXx3tX0c8JHzSH9PC67wHuApYV2rycMBRlbRbFQ4EF7l4b0Al3fyEuk3MU8HAL9tckYCjl+2ifeHZeM9vdnys8rg3tOq6B17mZsK8WEc6uvkEYW6aVDiX8079RKPsZ4X/l8Pj4dsIQqacUlvlwXG9dfNzIfqtp+Fhr5HLp8tiYiwj/2IcAlwGDC8vsTPqUdIuY2TaES453Av8MHBnbcHtdG3rjXYSNNpEwctqVW97STdS69S+oK689Hhl//54Q6GqnsR8iHBg3xccjCD3Lv8/GAL8eWAsMZNNxdMpeb0ttMvaKh5t7K9j4/lKvO4rwntbX/RzJxjbvWv/8Za9ZolXHWk/7qDhy3ZK6ZWr/lI0cf58mHK/7Ec4KP1MXDFphLHXvI77GIuKx5iEJcDPxWIv3WQ4knAXVNLLfaho+1rLZJTMbTLgOP8fd/7VQXh+cFrH5gdeIWvZjUF15cQe/mTCE4V+6+y8Lbai/RuyNh+s+oevbVN+ekWULZtT+CeqHehwTfy8GcHc3s+sIO/aC+Pt2D2PDQji4nXDJcFvJ69QPztXqLvWbtD9u8+Fs/k9e/7qLCR8MXy55ztp7m1///IXXzGWnFhGOiS1V3EeLCuWb7KMWmOXuqdkrWnGsQXgv9ftqACEgF9/HtcCtZjaBcKy9AvyqUN/Ifqtp+Fjr6UxmO8In6dpaQbxR+sG65WYA7zOzMZRLRf5aanL/wvMfRrikqKkFk2Ib9gC2+KZvwtxie6L3NvEcL7PpqSmE6+RlbMy2Qfgk2StmE95N4ZPFww27+4F93X1myU/VIwC+1zbNqJ1MOLh6mvJlBvBW4ImSNj8Tl3kQGBP3NxAyG4QUb0/PfZCZHZCob/Qs43FgFeX76Fl3f6WH9VthLjAxfpjX9PZYgzBmzkkxsNScTDiJKH4v6E7gNcJ7/DDhvk7xrKqR/dZr2TMZd19qZg8C/2xmywg33M4n3AgqBoJvAn8D3GtmXyUM7L0/MMzd/4VwSbAaOMPMlgLrY3T/L8IN0u+Y2efZeHOsODbr04SdcUlcZnvgi3G9KtwIfNfMLiD8I5xM2PANc/cNFqYE+aGZLSJc576b8P2IC7zw/RV3f8jMZhEyHKvZPCv0j8AMM9tAyBYsJ2Q7jgP+yd2f7e0btPAVgi+6+4U9LLoa+A8zu4hwpnoR4Rq+p+lmvgH8NfArM/suYV+NIWyD+9z9asKZ2R+B683sc4RP9S/R8+XSlYQs5Z1xGz9DyD7u4+7nu/s6M/tv4FQL80CtAR6tfxJ3X2xm3wL+j5m9TgicJxNuSNdnl6pyE+E9/9jMLiecsf+PJp7nK8DDwE1m9gPCvaL/B9zh7r+vLeTu683sRkImbyxQn9JuZL/1Xk93hgmnpr8i3ImfQzjoL6Quk0PIDFxLiJSrCAfQRwr1pxPmR1oXXvbP5YcQ/plXxQ01lboMT1zmvwgH/XOEbMrlFO7Ml7Wp5L2cSUk2q26ZgXFjz4/v5duEG90NZ5cKZecAs+J7fh74dOI1vxLXvzpRfxghRbks7ocnYxt3bPR9FZ5raFz2Uz0sN5uQGr6QcP29kpAi36mwzGbboVC3GyHNvoBwFjob+HfgrYVlJsT3tZrwhchPEgJpMrsUy3YmjJO7kBBEngb+vlB/DCGwrIntm0h51mYA4QPrxbiPngROr3utTY4zT2SASt5/j8sU9t2fCMf/Lwj3HnuVXYplRxPOaNbE7fL9suOBcHPXCQFkm97ut0bfV/FHI+NtZczsSMIn6HjPjOZvYbK6G9z9s21qmvRT6oW99Xkn8ONcgBFppa2179JWy9s8yLqILpdEpFK6XBKRSinIiEilFGREpFIKMiJSKQUZEamUgoyIVOr/ByK9pv1mfzH7AAAAAElFTkSuQmCC\n",
      "text/plain": [
       "<Figure size 1440x1440 with 5 Axes>"
      ]
     },
     "metadata": {
      "needs_background": "light"
     },
     "output_type": "display_data"
    },
    {
     "data": {
      "text/plain": [
       "<Figure size 720x360 with 0 Axes>"
      ]
     },
     "metadata": {},
     "output_type": "display_data"
    }
   ],
   "source": [
    "plt.figure()\n",
    "plt_row = 1\n",
    "plt_col = 5\n",
    "fig, axes = plt.subplots(5, figsize=(20,20))\n",
    "counter = 0\n",
    "plt.figure(figsize=(10,5))\n",
    "for j in range(plt_col):\n",
    "    plt_image = random_correct_images[counter].numpy()\n",
    "    axes[j].imshow(plt_image, cmap='gray')\n",
    "    axes[j].set_xlabel(getImageTitle(random_correct[counter]),fontsize=15 )\n",
    "    counter = counter + 1\n",
    "plt.show()"
   ]
  },
  {
   "cell_type": "code",
   "execution_count": 67,
   "metadata": {},
   "outputs": [
    {
     "data": {
      "text/plain": [
       "<Figure size 432x288 with 0 Axes>"
      ]
     },
     "metadata": {},
     "output_type": "display_data"
    },
    {
     "data": {
      "image/png": "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\n",
      "text/plain": [
       "<Figure size 1440x1440 with 5 Axes>"
      ]
     },
     "metadata": {
      "needs_background": "light"
     },
     "output_type": "display_data"
    },
    {
     "data": {
      "text/plain": [
       "<Figure size 720x360 with 0 Axes>"
      ]
     },
     "metadata": {},
     "output_type": "display_data"
    }
   ],
   "source": [
    "plt.figure()\n",
    "plt_row = 1\n",
    "plt_col = 5\n",
    "fig, axes = plt.subplots(5, figsize=(20,20))\n",
    "counter = 0\n",
    "plt.figure(figsize=(10,5))\n",
    "for j in range(plt_col):\n",
    "    plt_image = random_incorrect_images[counter].numpy()\n",
    "    axes[j].imshow(plt_image, cmap='gray')\n",
    "    axes[j].set_xlabel(getImageTitle(random_incorrect[counter]),fontsize=15 )\n",
    "    counter = counter + 1\n",
    "plt.show()"
   ]
  },
  {
   "cell_type": "code",
   "execution_count": 68,
   "metadata": {},
   "outputs": [],
   "source": [
    "# show probailities (1st) (2nd) || for both correct and incorrect "
   ]
  },
  {
   "cell_type": "code",
   "execution_count": 60,
   "metadata": {},
   "outputs": [
    {
     "data": {
      "text/plain": [
       "torch.Size([10000, 2])"
      ]
     },
     "execution_count": 60,
     "metadata": {},
     "output_type": "execute_result"
    }
   ],
   "source": [
    "second_pred_values.shape"
   ]
  },
  {
   "cell_type": "code",
   "execution_count": 61,
   "metadata": {},
   "outputs": [
    {
     "name": "stdout",
     "output_type": "stream",
     "text": [
      "tensor([[0.1102, 0.1058],\n",
      "        [0.1122, 0.1040],\n",
      "        [0.1131, 0.1051],\n",
      "        [0.1154, 0.1066],\n",
      "        [0.1083, 0.1044]])\n",
      "tensor([[0.1171, 0.1083],\n",
      "        [0.1117, 0.1101],\n",
      "        [0.1114, 0.1088],\n",
      "        [0.1099, 0.1057],\n",
      "        [0.1163, 0.1078]])\n"
     ]
    }
   ],
   "source": [
    "print(second_pred_values[random_correct])\n",
    "print(second_pred_values[random_incorrect])"
   ]
  },
  {
   "cell_type": "code",
   "execution_count": null,
   "metadata": {},
   "outputs": [],
   "source": []
  },
  {
   "cell_type": "code",
   "execution_count": null,
   "metadata": {},
   "outputs": [],
   "source": []
  }
 ],
 "metadata": {
  "kernelspec": {
   "display_name": "Python 3",
   "language": "python",
   "name": "python3"
  },
  "language_info": {
   "codemirror_mode": {
    "name": "ipython",
    "version": 3
   },
   "file_extension": ".py",
   "mimetype": "text/x-python",
   "name": "python",
   "nbconvert_exporter": "python",
   "pygments_lexer": "ipython3",
   "version": "3.8.5"
  }
 },
 "nbformat": 4,
 "nbformat_minor": 4
}
