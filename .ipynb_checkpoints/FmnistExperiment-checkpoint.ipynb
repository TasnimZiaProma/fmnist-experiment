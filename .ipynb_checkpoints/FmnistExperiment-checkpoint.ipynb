{
 "cells": [
  {
   "cell_type": "code",
   "execution_count": 1,
   "metadata": {},
   "outputs": [],
   "source": [
    "import matplotlib.pyplot as plt\n",
    "import numpy as np\n",
    "\n",
    "import torch\n",
    "import torchvision\n",
    "import torchvision.transforms as transforms\n",
    "\n",
    "import torch.nn as nn\n",
    "import torch.nn.functional as F\n",
    "import torch.optim as optim"
   ]
  },
  {
   "cell_type": "code",
   "execution_count": 2,
   "metadata": {},
   "outputs": [],
   "source": [
    "transform = transforms.Compose(\n",
    "    [transforms.ToTensor(),\n",
    "    transforms.Normalize((0.5,), (0.5,))])"
   ]
  },
  {
   "cell_type": "code",
   "execution_count": 3,
   "metadata": {},
   "outputs": [
    {
     "name": "stdout",
     "output_type": "stream",
     "text": [
      " Number of training data  60000\n"
     ]
    }
   ],
   "source": [
    "# datasets\n",
    "trainset = torchvision.datasets.FashionMNIST('./data',\n",
    "    download=False,\n",
    "    train=True,\n",
    "    transform=transform)\n",
    "print(' Number of training data ', len(trainset))"
   ]
  },
  {
   "cell_type": "code",
   "execution_count": 4,
   "metadata": {
    "scrolled": true
   },
   "outputs": [
    {
     "name": "stdout",
     "output_type": "stream",
     "text": [
      " Number of testing data  10000\n"
     ]
    }
   ],
   "source": [
    "test_set = torchvision.datasets.FashionMNIST('./data',\n",
    "    download=False,\n",
    "    train=False,\n",
    "    transform=transform)\n",
    "print(' Number of testing data ',len(test_set))"
   ]
  },
  {
   "cell_type": "code",
   "execution_count": 5,
   "metadata": {},
   "outputs": [
    {
     "name": "stdout",
     "output_type": "stream",
     "text": [
      " Number of final training data  50000\n",
      " Number of validation data  10000\n"
     ]
    }
   ],
   "source": [
    "train_set, val_set = torch.utils.data.random_split(trainset, [50000, 10000])\n",
    "print(' Number of final training data ', len(train_set))\n",
    "print(' Number of validation data ', len(val_set))"
   ]
  },
  {
   "cell_type": "code",
   "execution_count": 6,
   "metadata": {},
   "outputs": [],
   "source": [
    "BATCH_SIZE = 512"
   ]
  },
  {
   "cell_type": "code",
   "execution_count": 7,
   "metadata": {},
   "outputs": [],
   "source": [
    "trainloader = torch.utils.data.DataLoader(train_set, batch_size=BATCH_SIZE,\n",
    "                                          shuffle=True, num_workers=2)"
   ]
  },
  {
   "cell_type": "code",
   "execution_count": 8,
   "metadata": {},
   "outputs": [],
   "source": [
    "validationloader = torch.utils.data.DataLoader(val_set, batch_size = BATCH_SIZE, shuffle = False, num_workers = 2)"
   ]
  },
  {
   "cell_type": "code",
   "execution_count": 9,
   "metadata": {},
   "outputs": [],
   "source": [
    "testloader = torch.utils.data.DataLoader(test_set, batch_size=BATCH_SIZE,\n",
    "                                         shuffle=False, num_workers=2)"
   ]
  },
  {
   "cell_type": "code",
   "execution_count": 10,
   "metadata": {},
   "outputs": [
    {
     "name": "stdout",
     "output_type": "stream",
     "text": [
      "Sequential(\n",
      "  (0): Conv2d(1, 4, kernel_size=(3, 3), stride=(1, 1), padding=(1, 1))\n",
      "  (1): BatchNorm2d(4, eps=1e-05, momentum=0.1, affine=True, track_running_stats=True)\n",
      "  (2): ReLU(inplace=True)\n",
      "  (3): MaxPool2d(kernel_size=2, stride=2, padding=0, dilation=1, ceil_mode=False)\n",
      "  (4): Conv2d(4, 4, kernel_size=(3, 3), stride=(1, 1), padding=(1, 1))\n",
      "  (5): BatchNorm2d(4, eps=1e-05, momentum=0.1, affine=True, track_running_stats=True)\n",
      "  (6): ReLU(inplace=True)\n",
      "  (7): MaxPool2d(kernel_size=2, stride=2, padding=0, dilation=1, ceil_mode=False)\n",
      ")\n"
     ]
    }
   ],
   "source": [
    "cnn_layers =  nn.Sequential(\n",
    "            # Defining a 2D convolution layer\n",
    "            # torch.nn.Conv2d(in_channels, out_channels, kernel_size, stride, padding)\n",
    "            # in_channels (int) – Number of channels in the input image. For B&W it is 1.\n",
    "            # out_channels (int) – Number of channels produced by the convolution. 4 filters\n",
    "            # kernel_size (int or tuple) – Size of the convolving kernel (3x3)\n",
    "            # stride (int or tuple, optional) – Stride of the convolution\n",
    "            # padding (int or tuple, optional) – Padding of 1 added to both sides of the input\n",
    "            # example x1 = (n, c=1 , h=28 , w=28 )\n",
    "            nn.Conv2d(1, 4, kernel_size=3, stride=1, padding=1), #in_channels = 1 is a data dependent hyperparameter. It is 1 because the images are in grayscale\n",
    "            # x2 = (n, c=4 , h=28 , w=28 )\n",
    "            nn.BatchNorm2d(4), # Normalize output from the activation function. \n",
    "            nn.ReLU(inplace=True), # negative elements to zero\n",
    "            # x2 = (n, c=4 , h=28 , w=28 )\n",
    "            nn.MaxPool2d(kernel_size=2, stride=2), #Stride is the number of pixels shifts over the input matrix. When the stride is 1 then we move the filters to 1 pixel at a time. When the stride is 2 then we move the filters to 2 pixels at a time and so on\n",
    "            # x3 = (n, c=4 , h=14 , w=14 )\n",
    "            # Defining another 2D convolution layer\n",
    "            nn.Conv2d(4, 4, kernel_size=3, stride=1, padding=1),\n",
    "            # x3 = (n, c=4 , h=14 , w=14 )\n",
    "            nn.BatchNorm2d(4), # 4 features\n",
    "            nn.ReLU(inplace=True), # inplace = True will modify the input directly, without allocating any additional output.\n",
    "            # x3 = (n, c=4 , h=14 , w=14 )\n",
    "            nn.MaxPool2d(kernel_size=2, stride=2), # Downsamples the input representation by taking the maximum value\n",
    "            # x4 = (n, c=4 , h=7 , w=7 )\n",
    "        )\n",
    "        # outputSize = floor[(inputSize - filterSize + 2 * padding) / stride] + 1\n",
    "print(cnn_layers)"
   ]
  },
  {
   "cell_type": "code",
   "execution_count": 11,
   "metadata": {},
   "outputs": [
    {
     "name": "stdout",
     "output_type": "stream",
     "text": [
      "Sequential(\n",
      "  (0): Linear(in_features=196, out_features=10, bias=True)\n",
      ")\n"
     ]
    }
   ],
   "source": [
    "linear_layers = nn.Sequential(\n",
    "            nn.Linear(4 * 7 * 7, 10) \n",
    "#10 outputs because MNIST Fashion has 10 different classes. It is a data dependent hyperparameter\n",
    ")\n",
    "\n",
    "print(linear_layers)"
   ]
  },
  {
   "cell_type": "code",
   "execution_count": 12,
   "metadata": {},
   "outputs": [],
   "source": [
    "class Net(nn.Module):\n",
    "    def __init__(self):\n",
    "        super(Net, self).__init__()\n",
    "        self.cnn_layer = cnn_layers\n",
    "        self.linear_layer = linear_layers\n",
    "    \n",
    "    def forward(self, x):\n",
    "        x = self.cnn_layer(x)\n",
    "        x = x.view(x.shape[0],-1)\n",
    "        x = self.linear_layer(x)\n",
    "        return x"
   ]
  },
  {
   "cell_type": "code",
   "execution_count": 13,
   "metadata": {},
   "outputs": [],
   "source": [
    "net = Net()"
   ]
  },
  {
   "cell_type": "code",
   "execution_count": 14,
   "metadata": {},
   "outputs": [
    {
     "name": "stdout",
     "output_type": "stream",
     "text": [
      "cuda is available\n"
     ]
    }
   ],
   "source": [
    "\n",
    "optimizer =  optim.Adam(net.parameters(), lr=0.07) # learning rate \n",
    "# defining the loss function\n",
    "criterion =  nn.CrossEntropyLoss()\n",
    "# change loss function \n",
    "# 1. cross entropy \n",
    "# 2. 1 / (1 + distance between winning prob and second best prob)\n",
    "# add 1 and 2 \n",
    "# checking if GPU is available\n",
    "if torch.cuda.is_available():\n",
    "    print('cuda is available')\n",
    "    net = net.cuda()\n",
    "    criterion = criterion.cuda()"
   ]
  },
  {
   "cell_type": "code",
   "execution_count": 15,
   "metadata": {},
   "outputs": [
    {
     "name": "stdout",
     "output_type": "stream",
     "text": [
      "torch.Size([256, 1, 28, 28])\n"
     ]
    }
   ],
   "source": [
    "dataiter = iter(trainloader)\n",
    "images, labels = dataiter.next()\n",
    "print(images.shape)"
   ]
  },
  {
   "cell_type": "code",
   "execution_count": 16,
   "metadata": {},
   "outputs": [
    {
     "data": {
      "text/plain": [
       "<matplotlib.image.AxesImage at 0x2160d55c130>"
      ]
     },
     "execution_count": 16,
     "metadata": {},
     "output_type": "execute_result"
    },
    {
     "data": {
      "image/png": "[encoded data removed]",
      "text/plain": [
       "<Figure size 432x288 with 1 Axes>"
      ]
     },
     "metadata": {
      "needs_background": "light"
     },
     "output_type": "display_data"
    }
   ],
   "source": [
    "import numpy as np\n",
    "plt.imshow(np.transpose(images[0].numpy(), (1, 2, 0)), cmap='gray')"
   ]
  },
  {
   "cell_type": "code",
   "execution_count": 17,
   "metadata": {},
   "outputs": [
    {
     "data": {
      "text/plain": [
       "<Figure size 432x288 with 0 Axes>"
      ]
     },
     "metadata": {},
     "output_type": "display_data"
    },
    {
     "data": {
      "image/png": "[encoded data removed]",
      "text/plain": [
       "<Figure size 1080x1080 with 9 Axes>"
      ]
     },
     "metadata": {
      "needs_background": "light"
     },
     "output_type": "display_data"
    }
   ],
   "source": [
    "plt.figure()\n",
    "plt_row = 3\n",
    "plt_col = 3\n",
    "fig, axes = plt.subplots(plt_row, plt_col, figsize=(15,15))\n",
    "plt.subplots_adjust( hspace=0.5)\n",
    "counter = 0\n",
    "for i in range(plt_row):\n",
    "    for j in range(plt_col):\n",
    "        image = np.transpose(images[counter].numpy(), (1, 2, 0))\n",
    "        axes[i][j].imshow(image, cmap='gray')\n",
    "        axes[i][j].set_xlabel(\"label {label}\".format(label = labels[counter]),fontsize=25 )\n",
    "        counter = counter + 1\n",
    "plt.show()"
   ]
  },
  {
   "cell_type": "code",
   "execution_count": 18,
   "metadata": {},
   "outputs": [],
   "source": [
    "def accuracy_finder(predictions , labels):\n",
    "    softmax = torch.nn.Softmax(dim=1) \n",
    "    predictions = softmax(predictions)\n",
    "    values, max_indices = torch.max(predictions, dim=1) \n",
    "    accuracy = ( max_indices == labels ).sum().item()/max_indices.size()[0]\n",
    "    return accuracy"
   ]
  },
  {
   "cell_type": "code",
   "execution_count": 19,
   "metadata": {},
   "outputs": [],
   "source": [
    "def validate():\n",
    "    batches_traversed = 0 \n",
    "    total_val_accuracy = 0\n",
    "    total_val_loss = 0 \n",
    "    for i, data in enumerate(validationloader, 0):\n",
    "        # get the inputs; data is a list of [inputs, labels]\n",
    "        inputs, labels = data\n",
    "        with torch.no_grad():\n",
    "            if torch.cuda.is_available():\n",
    "                inputs = inputs.cuda()\n",
    "                labels = labels.cuda()\n",
    "            # forward + backward + optimize\n",
    "            outputs = net(inputs)\n",
    "            loss = criterion(outputs, labels)\n",
    "            total_val_loss = total_val_loss + loss.item()\n",
    "            val_accuracy = accuracy_finder(predictions=outputs, labels=labels)\n",
    "        total_val_accuracy = total_val_accuracy + val_accuracy\n",
    "        batches_traversed = batches_traversed + 1\n",
    "    return (total_val_loss/batches_traversed, total_val_accuracy/batches_traversed)"
   ]
  },
  {
   "cell_type": "code",
   "execution_count": 20,
   "metadata": {},
   "outputs": [],
   "source": [
    "def train(epochs:int):\n",
    "    all_training_losses = []\n",
    "    all_training_acc = []\n",
    "    all_validation_losses = []\n",
    "    all_validation_acc = []\n",
    "    min_avg_train_loss = float('inf')  \n",
    "    for epoch in range(epochs):  # loop over the dataset multiple times\n",
    "        targets = []\n",
    "        total_loss_epoch = 0\n",
    "        total_acc_epoch = 0\n",
    "        batches_traversed = 0 \n",
    "        for i, data in enumerate(trainloader, 0):\n",
    "            # get the inputs; data is a list of [inputs, labels]\n",
    "            inputs, labels = data\n",
    "            if torch.cuda.is_available():\n",
    "                inputs = inputs.cuda()\n",
    "                labels = labels.cuda()\n",
    "            # zero the parameter gradients\n",
    "            optimizer.zero_grad()\n",
    "\n",
    "            # forward + backward + optimize\n",
    "            outputs = net(inputs)\n",
    "            loss = criterion(outputs, labels)\n",
    "            loss.backward()\n",
    "            optimizer.step()\n",
    "            targets.append(labels)\n",
    "            total_loss_epoch = total_loss_epoch + loss.item()\n",
    "            training_accuracy = accuracy_finder(predictions=outputs, labels=labels)\n",
    "            total_acc_epoch = total_acc_epoch + training_accuracy\n",
    "            batches_traversed = batches_traversed + 1 \n",
    "        all_training_losses.append(total_loss_epoch/batches_traversed)\n",
    "        all_training_acc.append(total_acc_epoch/batches_traversed)\n",
    "        val_loss, val_acc = validate()\n",
    "        all_validation_losses.append(val_loss)\n",
    "        all_validation_acc.append(val_acc)\n",
    "        print(\"epoch : {}, training loss : {}, training accuracy {},  validation loss : {}, validation accuracy {}\".format(epoch+1,round((total_loss_epoch/batches_traversed),3),round((total_acc_epoch/batches_traversed),3), round(val_loss,3), round(val_acc,3)))\n",
    "        #save the model with minimum training loss \n",
    "        avg_training_loss = total_loss_epoch/batches_traversed\n",
    "        if min_avg_train_loss > avg_training_loss : \n",
    "        min_avg_train_loss = avg_training_loss\n",
    "        print('min avg loss printed:', min_avg_train_loss)\n",
    "        PATH = './fmnist_min_avg.pth'\n",
    "        #saving model\n",
    "        torch.save(net.state_dict(), PATH)\n",
    "    print('Finished Training')\n",
    "    return (all_training_losses, all_training_acc, all_validation_losses, all_validation_acc)"
   ]
  },
  {
   "cell_type": "code",
   "execution_count": 21,
   "metadata": {},
   "outputs": [
    {
     "name": "stdout",
     "output_type": "stream",
     "text": [
      "epoch : 1, training loss : 0.724, training accuracy 0.765,  validation loss : 0.461, validation accuracy 0.834\n",
      "epoch : 2, training loss : 0.443, training accuracy 0.84,  validation loss : 0.429, validation accuracy 0.849\n",
      "epoch : 3, training loss : 0.411, training accuracy 0.851,  validation loss : 0.402, validation accuracy 0.858\n",
      "epoch : 4, training loss : 0.392, training accuracy 0.858,  validation loss : 0.369, validation accuracy 0.869\n",
      "epoch : 5, training loss : 0.377, training accuracy 0.866,  validation loss : 0.36, validation accuracy 0.875\n",
      "epoch : 6, training loss : 0.374, training accuracy 0.867,  validation loss : 0.35, validation accuracy 0.879\n",
      "epoch : 7, training loss : 0.372, training accuracy 0.866,  validation loss : 0.354, validation accuracy 0.875\n",
      "epoch : 8, training loss : 0.369, training accuracy 0.868,  validation loss : 0.377, validation accuracy 0.871\n",
      "epoch : 9, training loss : 0.368, training accuracy 0.869,  validation loss : 0.389, validation accuracy 0.866\n",
      "epoch : 10, training loss : 0.363, training accuracy 0.87,  validation loss : 0.385, validation accuracy 0.861\n",
      "epoch : 11, training loss : 0.364, training accuracy 0.87,  validation loss : 0.378, validation accuracy 0.871\n",
      "epoch : 12, training loss : 0.356, training accuracy 0.873,  validation loss : 0.338, validation accuracy 0.883\n",
      "epoch : 13, training loss : 0.357, training accuracy 0.874,  validation loss : 0.344, validation accuracy 0.882\n",
      "epoch : 14, training loss : 0.355, training accuracy 0.873,  validation loss : 0.37, validation accuracy 0.872\n",
      "epoch : 15, training loss : 0.355, training accuracy 0.873,  validation loss : 0.359, validation accuracy 0.875\n",
      "epoch : 16, training loss : 0.353, training accuracy 0.874,  validation loss : 0.34, validation accuracy 0.882\n",
      "epoch : 17, training loss : 0.35, training accuracy 0.875,  validation loss : 0.375, validation accuracy 0.865\n",
      "epoch : 18, training loss : 0.351, training accuracy 0.874,  validation loss : 0.331, validation accuracy 0.886\n",
      "epoch : 19, training loss : 0.35, training accuracy 0.875,  validation loss : 0.354, validation accuracy 0.879\n",
      "epoch : 20, training loss : 0.353, training accuracy 0.874,  validation loss : 0.355, validation accuracy 0.879\n",
      "epoch : 21, training loss : 0.347, training accuracy 0.876,  validation loss : 0.336, validation accuracy 0.883\n",
      "epoch : 22, training loss : 0.35, training accuracy 0.874,  validation loss : 0.354, validation accuracy 0.875\n",
      "epoch : 23, training loss : 0.345, training accuracy 0.876,  validation loss : 0.347, validation accuracy 0.878\n",
      "epoch : 24, training loss : 0.343, training accuracy 0.876,  validation loss : 0.341, validation accuracy 0.88\n",
      "epoch : 25, training loss : 0.349, training accuracy 0.875,  validation loss : 0.384, validation accuracy 0.865\n",
      "epoch : 26, training loss : 0.348, training accuracy 0.875,  validation loss : 0.342, validation accuracy 0.879\n",
      "epoch : 27, training loss : 0.344, training accuracy 0.876,  validation loss : 0.347, validation accuracy 0.88\n",
      "epoch : 28, training loss : 0.344, training accuracy 0.877,  validation loss : 0.363, validation accuracy 0.88\n",
      "epoch : 29, training loss : 0.345, training accuracy 0.877,  validation loss : 0.333, validation accuracy 0.884\n",
      "epoch : 30, training loss : 0.346, training accuracy 0.877,  validation loss : 0.369, validation accuracy 0.866\n",
      "epoch : 31, training loss : 0.34, training accuracy 0.878,  validation loss : 0.344, validation accuracy 0.878\n",
      "epoch : 32, training loss : 0.34, training accuracy 0.878,  validation loss : 0.381, validation accuracy 0.871\n",
      "epoch : 33, training loss : 0.338, training accuracy 0.879,  validation loss : 0.324, validation accuracy 0.885\n",
      "epoch : 34, training loss : 0.341, training accuracy 0.876,  validation loss : 0.337, validation accuracy 0.882\n",
      "epoch : 35, training loss : 0.336, training accuracy 0.879,  validation loss : 0.343, validation accuracy 0.882\n",
      "epoch : 36, training loss : 0.337, training accuracy 0.88,  validation loss : 0.345, validation accuracy 0.881\n",
      "epoch : 37, training loss : 0.338, training accuracy 0.878,  validation loss : 0.345, validation accuracy 0.879\n",
      "epoch : 38, training loss : 0.333, training accuracy 0.88,  validation loss : 0.332, validation accuracy 0.883\n",
      "epoch : 39, training loss : 0.337, training accuracy 0.879,  validation loss : 0.378, validation accuracy 0.869\n",
      "epoch : 40, training loss : 0.336, training accuracy 0.88,  validation loss : 0.343, validation accuracy 0.881\n",
      "epoch : 41, training loss : 0.334, training accuracy 0.879,  validation loss : 0.344, validation accuracy 0.883\n",
      "epoch : 42, training loss : 0.331, training accuracy 0.88,  validation loss : 0.33, validation accuracy 0.884\n",
      "epoch : 43, training loss : 0.344, training accuracy 0.877,  validation loss : 0.352, validation accuracy 0.88\n",
      "epoch : 44, training loss : 0.333, training accuracy 0.881,  validation loss : 0.335, validation accuracy 0.886\n",
      "epoch : 45, training loss : 0.336, training accuracy 0.88,  validation loss : 0.348, validation accuracy 0.874\n",
      "epoch : 46, training loss : 0.33, training accuracy 0.88,  validation loss : 0.329, validation accuracy 0.882\n",
      "epoch : 47, training loss : 0.332, training accuracy 0.88,  validation loss : 0.337, validation accuracy 0.883\n",
      "epoch : 48, training loss : 0.337, training accuracy 0.878,  validation loss : 0.342, validation accuracy 0.882\n",
      "epoch : 49, training loss : 0.333, training accuracy 0.881,  validation loss : 0.36, validation accuracy 0.872\n",
      "epoch : 50, training loss : 0.338, training accuracy 0.878,  validation loss : 0.345, validation accuracy 0.886\n",
      "Finished Training\n"
     ]
    }
   ],
   "source": [
    "training_loss, training_acc, val_loss, val_acc = train(epochs=50)"
   ]
  },
  {
   "cell_type": "code",
   "execution_count": 22,
   "metadata": {},
   "outputs": [],
   "source": [
    "PATH = './fmnist_test.pth'\n",
    "#saving model\n",
    "torch.save(net.state_dict(), PATH)"
   ]
  },
  {
   "cell_type": "code",
   "execution_count": 23,
   "metadata": {},
   "outputs": [
    {
     "name": "stdout",
     "output_type": "stream",
     "text": [
      "50\n",
      "50\n",
      "50\n",
      "50\n"
     ]
    }
   ],
   "source": [
    "print(len(training_loss))\n",
    "print(len(training_acc))\n",
    "print(len(val_loss))\n",
    "print(len(val_acc))"
   ]
  },
  {
   "cell_type": "code",
   "execution_count": 24,
   "metadata": {},
   "outputs": [],
   "source": [
    "def convert_to_tensor_from_list_of_tensors(values):\n",
    "    try:\n",
    "        try: \n",
    "            values = torch.cuda.FloatTensor(values)\n",
    "        except: \n",
    "            values = torch.FloatTensor(values)\n",
    "    except: \n",
    "        print('an exception occured')\n",
    "    return values"
   ]
  },
  {
   "cell_type": "code",
   "execution_count": 61,
   "metadata": {},
   "outputs": [
    {
     "name": "stdout",
     "output_type": "stream",
     "text": [
      "tensor([0.3926, 0.3864, 0.3785, 0.3768, 0.3770, 0.3713, 0.3721, 0.3718, 0.3691,\n",
      "        0.3663, 0.3721, 0.3719, 0.3680, 0.3681, 0.3627, 0.3726, 0.3649, 0.3667,\n",
      "        0.3673, 0.3615, 0.3632, 0.3652, 0.3608, 0.3664, 0.3597, 0.3634, 0.3612,\n",
      "        0.3637, 0.3553, 0.3644, 0.3612, 0.3594, 0.3600, 0.3586, 0.3574, 0.3647,\n",
      "        0.3557, 0.3627, 0.3539, 0.3609, 0.3573, 0.3540, 0.3538, 0.3563, 0.3569,\n",
      "        0.3573, 0.3543, 0.3544, 0.3544, 0.3627], device='cuda:0')\n",
      "tensor([0.8606, 0.8625, 0.8668, 0.8660, 0.8668, 0.8674, 0.8674, 0.8669, 0.8689,\n",
      "        0.8682, 0.8664, 0.8664, 0.8672, 0.8692, 0.8699, 0.8673, 0.8717, 0.8701,\n",
      "        0.8688, 0.8707, 0.8711, 0.8705, 0.8724, 0.8704, 0.8726, 0.8712, 0.8711,\n",
      "        0.8697, 0.8739, 0.8704, 0.8725, 0.8732, 0.8731, 0.8722, 0.8727, 0.8697,\n",
      "        0.8742, 0.8709, 0.8741, 0.8713, 0.8730, 0.8733, 0.8751, 0.8729, 0.8728,\n",
      "        0.8739, 0.8737, 0.8731, 0.8737, 0.8730], device='cuda:0')\n",
      "tensor([0.4137, 0.4209, 0.4084, 0.4240, 0.3949, 0.4211, 0.4153, 0.3993, 0.4017,\n",
      "        0.4019, 0.4265, 0.3943, 0.4011, 0.4171, 0.4151, 0.3980, 0.3938, 0.3972,\n",
      "        0.4038, 0.4144, 0.4011, 0.3884, 0.4141, 0.3985, 0.4151, 0.4125, 0.4338,\n",
      "        0.3895, 0.3877, 0.4254, 0.4004, 0.4110, 0.4048, 0.4025, 0.3875, 0.4062,\n",
      "        0.4057, 0.3873, 0.4021, 0.3859, 0.3829, 0.3947, 0.4034, 0.3920, 0.4120,\n",
      "        0.3952, 0.3891, 0.4024, 0.4043, 0.3954], device='cuda:0')\n",
      "tensor([0.8564, 0.8543, 0.8554, 0.8514, 0.8600, 0.8541, 0.8537, 0.8625, 0.8611,\n",
      "        0.8603, 0.8494, 0.8617, 0.8634, 0.8569, 0.8577, 0.8623, 0.8623, 0.8652,\n",
      "        0.8643, 0.8624, 0.8601, 0.8655, 0.8552, 0.8652, 0.8523, 0.8687, 0.8578,\n",
      "        0.8682, 0.8690, 0.8621, 0.8606, 0.8571, 0.8614, 0.8625, 0.8682, 0.8573,\n",
      "        0.8595, 0.8646, 0.8640, 0.8639, 0.8665, 0.8624, 0.8605, 0.8660, 0.8555,\n",
      "        0.8623, 0.8622, 0.8584, 0.8677, 0.8671], device='cuda:0')\n"
     ]
    }
   ],
   "source": [
    "loss = convert_to_tensor_from_list_of_tensors(training_loss)\n",
    "acc = convert_to_tensor_from_list_of_tensors(training_acc)\n",
    "v_loss = convert_to_tensor_from_list_of_tensors(val_loss) \n",
    "v_acc = convert_to_tensor_from_list_of_tensors(val_acc)\n",
    "print(loss)\n",
    "print(acc)\n",
    "print(v_loss)\n",
    "print(v_acc)"
   ]
  },
  {
   "cell_type": "code",
   "execution_count": 62,
   "metadata": {},
   "outputs": [],
   "source": [
    "def acc_and_loss_plot(accuracy, loss,title):\n",
    "    loss_plot = loss.cpu().numpy()\n",
    "    acc_plot = acc.cpu().numpy()\n",
    "    plt.plot(loss_plot,'r', label=\"loss\")\n",
    "    plt.plot(acc_plot,'b', label=\"validation\")\n",
    "    plt.title(title)\n",
    "    plt.legend((\"loss\",\"accuracy\"))\n",
    "    plt.xlabel(\"epochs\")\n",
    "    plt.show()"
   ]
  },
  {
   "cell_type": "code",
   "execution_count": 75,
   "metadata": {},
   "outputs": [],
   "source": [
    "def result_plot(v_value , t_value, title,ylabel):\n",
    "    v_value = v_value.cpu().numpy()\n",
    "    t_value = t_value.cpu().numpy()\n",
    "    plt.plot(v_value,'r')\n",
    "    plt.plot(t_value,'b')\n",
    "    plt.title(title)\n",
    "    plt.legend((\"validation\",\"training\"))\n",
    "    plt.xlabel(\"epochs\")\n",
    "    plt.ylabel(ylabel)\n",
    "    plt.show()"
   ]
  },
  {
   "cell_type": "code",
   "execution_count": 76,
   "metadata": {},
   "outputs": [
    {
     "data": {
      "image/png": "[encoded data removed]",
      "text/plain": [
       "<Figure size 432x288 with 1 Axes>"
      ]
     },
     "metadata": {
      "needs_background": "light"
     },
     "output_type": "display_data"
    }
   ],
   "source": [
    "result_plot(v_value= v_loss ,t_value= loss, title=\"Loss\", ylabel=\"loss\" )"
   ]
  },
  {
   "cell_type": "code",
   "execution_count": 77,
   "metadata": {},
   "outputs": [
    {
     "data": {
      "image/png": "[encoded data removed]",
      "text/plain": [
       "<Figure size 432x288 with 1 Axes>"
      ]
     },
     "metadata": {
      "needs_background": "light"
     },
     "output_type": "display_data"
    }
   ],
   "source": [
    "result_plot(v_value= v_acc ,t_value= acc,title=\"accuracy result\", ylabel=\"accuracy\")"
   ]
  },
  {
   "cell_type": "code",
   "execution_count": 112,
   "metadata": {},
   "outputs": [
    {
     "name": "stdout",
     "output_type": "stream",
     "text": [
      "tensor([4, 0, 8, 7, 6, 8, 9, 3, 7, 3, 9, 2, 4, 4, 3, 9, 2, 9, 4, 9, 0, 5, 5, 4,\n",
      "        7, 0, 5, 8, 0, 2, 5, 9, 8, 0, 0, 8, 4, 3, 5, 2, 3, 4, 5, 2, 1, 3, 5, 4,\n",
      "        5, 4, 4, 0, 7, 1, 5, 1, 0, 9, 7, 9, 5, 8, 3, 3, 0, 1, 7, 4, 8, 4, 7, 4,\n",
      "        8, 9, 0, 0, 3, 7, 6, 4], device='cuda:0')\n",
      "torch.Size([50000])\n"
     ]
    }
   ],
   "source": [
    "values, ind = torch.max(output, dim=1)\n",
    "print(ind)\n",
    "values, ind = torch.max(pred, dim = 1)\n",
    "print(ind.size())"
   ]
  },
  {
   "cell_type": "code",
   "execution_count": 63,
   "metadata": {},
   "outputs": [
    {
     "name": "stdout",
     "output_type": "stream",
     "text": [
      "tensor([ 0.4464,  0.1405, -0.3777, -0.0677,  0.0247,  0.1026, -0.5148,  0.2474,\n",
      "         0.2994,  0.1011], device='cuda:0', grad_fn=<SelectBackward>)\n",
      "tensor(0.4464, device='cuda:0', grad_fn=<MaxBackward1>)\n"
     ]
    },
    {
     "data": {
      "text/plain": [
       "torch.return_types.topk(\n",
       "values=tensor([[0.4464, 0.2994],\n",
       "        [0.4464, 0.2994],\n",
       "        [0.4464, 0.2994],\n",
       "        [0.4464, 0.2994]], device='cuda:0', grad_fn=<TopkBackward>),\n",
       "indices=tensor([[0, 8],\n",
       "        [0, 8],\n",
       "        [0, 8],\n",
       "        [0, 8]], device='cuda:0'))"
      ]
     },
     "execution_count": 63,
     "metadata": {},
     "output_type": "execute_result"
    }
   ],
   "source": [
    "print(outputs[1])\n",
    "print(torch.max(outputs[0]))\n",
    "torch.topk(outputs,k=2, dim=1)"
   ]
  },
  {
   "cell_type": "code",
   "execution_count": 19,
   "metadata": {},
   "outputs": [],
   "source": [
    "PATH = './fmnist_test.pth'\n",
    "torch.save(net.state_dict(), PATH)"
   ]
  },
  {
   "cell_type": "code",
   "execution_count": 78,
   "metadata": {},
   "outputs": [
    {
     "data": {
      "text/plain": [
       "<All keys matched successfully>"
      ]
     },
     "execution_count": 78,
     "metadata": {},
     "output_type": "execute_result"
    }
   ],
   "source": [
    "loadNet = Net()\n",
    "loadNet.load_state_dict(torch.load(PATH))"
   ]
  },
  {
   "cell_type": "code",
   "execution_count": 79,
   "metadata": {},
   "outputs": [
    {
     "name": "stdout",
     "output_type": "stream",
     "text": [
      "Net(\n",
      "  (cnn_layer): Sequential(\n",
      "    (0): Conv2d(1, 4, kernel_size=(3, 3), stride=(1, 1), padding=(1, 1))\n",
      "    (1): BatchNorm2d(4, eps=1e-05, momentum=0.1, affine=True, track_running_stats=True)\n",
      "    (2): ReLU(inplace=True)\n",
      "    (3): MaxPool2d(kernel_size=2, stride=2, padding=0, dilation=1, ceil_mode=False)\n",
      "    (4): Conv2d(4, 4, kernel_size=(3, 3), stride=(1, 1), padding=(1, 1))\n",
      "    (5): BatchNorm2d(4, eps=1e-05, momentum=0.1, affine=True, track_running_stats=True)\n",
      "    (6): ReLU(inplace=True)\n",
      "    (7): MaxPool2d(kernel_size=2, stride=2, padding=0, dilation=1, ceil_mode=False)\n",
      "  )\n",
      "  (linear_layer): Sequential(\n",
      "    (0): Linear(in_features=196, out_features=10, bias=True)\n",
      "  )\n",
      ")\n"
     ]
    }
   ],
   "source": [
    "print(loadNet)"
   ]
  },
  {
   "cell_type": "code",
   "execution_count": 80,
   "metadata": {},
   "outputs": [
    {
     "name": "stdout",
     "output_type": "stream",
     "text": [
      "<generator object Module.children at 0x000002613A214BA0>\n",
      "torch.Size([4, 1, 3, 3])\n"
     ]
    },
    {
     "data": {
      "text/plain": [
       "<matplotlib.image.AxesImage at 0x2613a8bce50>"
      ]
     },
     "execution_count": 80,
     "metadata": {},
     "output_type": "execute_result"
    },
    {
     "data": {
      "image/png": "[encoded data removed]",
      "text/plain": [
       "<Figure size 432x288 with 1 Axes>"
      ]
     },
     "metadata": {
      "needs_background": "light"
     },
     "output_type": "display_data"
    }
   ],
   "source": [
    "model_children = loadNet.children()\n",
    "print(model_children)\n",
    "filters = list(model_children)[0][0].weight\n",
    "print(filters.shape)\n",
    "plt.imshow(np.transpose(filters[0].cpu().detach().numpy(), (1, 2, 0)), cmap='gray')"
   ]
  },
  {
   "cell_type": "code",
   "execution_count": null,
   "metadata": {},
   "outputs": [],
   "source": []
  },
  {
   "cell_type": "code",
   "execution_count": null,
   "metadata": {},
   "outputs": [],
   "source": []
  }
 ],
 "metadata": {
  "kernelspec": {
   "display_name": "Python 3",
   "language": "python",
   "name": "python3"
  },
  "language_info": {
   "codemirror_mode": {
    "name": "ipython",
    "version": 3
   },
   "file_extension": ".py",
   "mimetype": "text/x-python",
   "name": "python",
   "nbconvert_exporter": "python",
   "pygments_lexer": "ipython3",
   "version": "3.8.5"
  }
 },
 "nbformat": 4,
 "nbformat_minor": 4
}
